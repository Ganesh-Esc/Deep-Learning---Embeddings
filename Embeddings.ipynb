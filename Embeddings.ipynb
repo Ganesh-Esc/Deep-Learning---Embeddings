{
  "nbformat": 4,
  "nbformat_minor": 0,
  "metadata": {
    "colab": {
      "provenance": [],
      "authorship_tag": "ABX9TyPcFJ0lm5uNTE15itx7VR79",
      "include_colab_link": true
    },
    "kernelspec": {
      "name": "python3",
      "display_name": "Python 3"
    },
    "language_info": {
      "name": "python"
    }
  },
  "cells": [
    {
      "cell_type": "markdown",
      "metadata": {
        "id": "view-in-github",
        "colab_type": "text"
      },
      "source": [
        "<a href=\"https://colab.research.google.com/github/Ganesh-Esc/Deep-Learning---Embeddings/blob/main/Embeddings.ipynb\" target=\"_parent\"><img src=\"https://colab.research.google.com/assets/colab-badge.svg\" alt=\"Open In Colab\"/></a>"
      ]
    },
    {
      "cell_type": "markdown",
      "source": [
        "# __Embeddings__"
      ],
      "metadata": {
        "id": "QDTfrQP-qL2d"
      }
    },
    {
      "cell_type": "markdown",
      "source": [
        "## Author\n",
        "\n",
        "<a href=\"https://www.linkedin.com/in/ganesh-kommana/\" target=\"_blank\">Ganesh Kommana</a>"
      ],
      "metadata": {
        "id": "WOlRG5G6T-y1"
      }
    },
    {
      "cell_type": "markdown",
      "source": [
        "You work for a streaming service that wants an automatic way to determine if they should add a movie to its catalog; each film is expensive to purchase, so the  streaming service would only like good movies to add to the catalog. You have been hired to build a neural network to determine if a movie is good or not using critics' written ratings similar to \"Rotten Tomatoes\".\n",
        "\n",
        "In this notebook, you will learn the fundamentals of how to convert text data to usable features for your neural network. In addition, you will also learn about the embedding layer, an engineering solution that allows you to implement linear layers for categorical data effectively.\n",
        "\n",
        "<img src=\"https://cf-courses-data.s3.us.cloud-object-storage.appdomain.cloud/IBMDeveloperSkillsNetwork-ML311-Coursera/labs/Module4/L1/movie_review.webp\" style=\"width: 60%\">\n"
      ],
      "metadata": {
        "id": "sGjGvDsRqP0k"
      }
    },
    {
      "cell_type": "markdown",
      "source": [
        "## Objectives\n",
        "\n",
        "After completing this lab, you will be able to:\n",
        "\n",
        " - Understand the theory behind Embedding Layers  \n",
        " - Apply Tokenizer, Embedding Layers to a neural network\n",
        " - Perform Sentiment Analysis using a neural network\n"
      ],
      "metadata": {
        "id": "KeWlqPSzqTvX"
      }
    },
    {
      "cell_type": "markdown",
      "source": [
        "### Installing Required Libraries"
      ],
      "metadata": {
        "id": "FUTgN80LqYZR"
      }
    },
    {
      "cell_type": "code",
      "execution_count": 4,
      "metadata": {
        "id": "wS_bmemSpzi6"
      },
      "outputs": [],
      "source": [
        "%%capture\n",
        "!pip install --upgrade tensorflow"
      ]
    },
    {
      "cell_type": "markdown",
      "source": [
        "### Importing Required Libraries\n"
      ],
      "metadata": {
        "id": "wXFfxgEzqhQK"
      }
    },
    {
      "cell_type": "code",
      "source": [
        "def warn(*args, **kwargs):\n",
        "    pass\n",
        "import warnings\n",
        "warnings.warn = warn\n",
        "warnings.filterwarnings('ignore')\n",
        "\n",
        "import importlib\n",
        "import numpy as np\n",
        "\n",
        "import matplotlib.pyplot as plt\n",
        "from numpy.random import seed\n",
        "seed(1)\n",
        "\n",
        "import  tensorflow as tf\n",
        "\n",
        "tf.random.set_seed(1234)\n",
        "from tensorflow.keras.layers import Embedding, Dense, Flatten,Dropout\n",
        "from tensorflow.keras.models import Sequential\n",
        "\n",
        "from keras import preprocessing\n",
        "from tensorflow.keras.preprocessing.text import Tokenizer\n",
        "from tensorflow.keras.preprocessing.sequence import pad_sequences\n",
        "\n",
        "from tensorflow.keras import regularizers\n"
      ],
      "metadata": {
        "id": "9_gLUUCwqjDd"
      },
      "execution_count": 5,
      "outputs": []
    },
    {
      "cell_type": "code",
      "source": [
        "# Print tensorflow version, should be greater than 2.9.0\n",
        "print(tf.__version__)"
      ],
      "metadata": {
        "colab": {
          "base_uri": "https://localhost:8080/"
        },
        "id": "rbuvdBNTqlr1",
        "outputId": "57cd390b-95c7-4fcc-a202-b2f74707f29f"
      },
      "execution_count": 6,
      "outputs": [
        {
          "output_type": "stream",
          "name": "stdout",
          "text": [
            "2.20.0\n"
          ]
        }
      ]
    },
    {
      "cell_type": "markdown",
      "source": [
        "### Defining Helper Functions\n"
      ],
      "metadata": {
        "id": "fNhJgchuqopk"
      }
    },
    {
      "cell_type": "markdown",
      "source": [
        "This function will plot the neural network's loss and accuracy curves from its training history:\n"
      ],
      "metadata": {
        "id": "AngGZJexqrn1"
      }
    },
    {
      "cell_type": "code",
      "source": [
        "def display_metrics(history):\n",
        "\n",
        "    n = len(history.history[\"loss\"])\n",
        "\n",
        "    fig = plt.figure(figsize=(12, 6))\n",
        "    ax = fig.add_subplot(1, 2, 1)\n",
        "    ax.plot(range(n), (history.history[\"loss\"]),'r', label=\"Train Loss\")\n",
        "    ax.plot(range(n), (history.history[\"val_loss\"]),'b', label=\"Validation Loss\")\n",
        "    ax.legend()\n",
        "    ax.set_title('Loss over iterations')\n",
        "\n",
        "    ax = fig.add_subplot(1, 2, 2)\n",
        "    ax.plot(range(n), (history.history[\"acc\"]),'r', label=\"Train Acc\")\n",
        "    ax.plot(range(n), (history.history[\"val_acc\"]),'b', label=\"Validation Acc\")\n",
        "    ax.legend(loc='lower right')\n",
        "    ax.set_title('Accuracy over iterations')"
      ],
      "metadata": {
        "id": "ddZNBUiSqyOX"
      },
      "execution_count": 7,
      "outputs": []
    },
    {
      "cell_type": "markdown",
      "source": [
        "This function will plot word embeddings that have been reduced to two dimensions:\n"
      ],
      "metadata": {
        "id": "9eSiCO0Hq1nj"
      }
    },
    {
      "cell_type": "code",
      "source": [
        "def plot_embedding(X_embedded,start=100,stop=300,sample=10):\n",
        "    fig, ax = plt.subplots()\n",
        "    ax.scatter(X_embedded[start:stop:sample,0], X_embedded[start:stop:sample,1])\n",
        "    for i in range(start,stop,sample):\n",
        "        ax.annotate(REVERSE_LOOKUP[i+1], (X_embedded[i,0], X_embedded[i,1]))"
      ],
      "metadata": {
        "id": "nL7MHpItq30W"
      },
      "execution_count": 8,
      "outputs": []
    },
    {
      "cell_type": "markdown",
      "source": [
        "This function will convert a probability to a Rotten Tomatoes score:\n"
      ],
      "metadata": {
        "id": "Gn7yQ5qFq6wM"
      }
    },
    {
      "cell_type": "code",
      "source": [
        "def rotten_tomato_score(p_yx):\n",
        "    return [\"rotten\"  if p<=0.60 else \"fresh\"for p in p_yx ]\n",
        ""
      ],
      "metadata": {
        "id": "kFdok87Rq84O"
      },
      "execution_count": 9,
      "outputs": []
    },
    {
      "cell_type": "markdown",
      "source": [
        "##  Background\n"
      ],
      "metadata": {
        "id": "wP7VxjOlrABE"
      }
    },
    {
      "cell_type": "markdown",
      "source": [
        "As most machine learning models need their input variables to be numeric, text variables need to be transformed in the pre-processing part. There are several methods to perform this transformation. One-hot and Multi-hot encoding are frequently used to deal with textual data.\n",
        "\n",
        "One-hot encoding involves creating a set of vectors whose length equals the number of unique elements in the corpus or the vocabulary. We represent individual words as ones; else, the element is zero. Consider the following list of three **sequences**:\n"
      ],
      "metadata": {
        "id": "Kmnnx-9prC7G"
      }
    },
    {
      "cell_type": "code",
      "source": [
        "samples=['I hate cats',\n",
        "         'the dog is brown and I like cats',\n",
        "         'for the']"
      ],
      "metadata": {
        "id": "GYt-zOTLrFYo"
      },
      "execution_count": 10,
      "outputs": []
    },
    {
      "cell_type": "markdown",
      "source": [
        "We have three **sequences**, and the corresponding number of **word tokens** for each sequence is given by:\n",
        "\n",
        "\n",
        "1. I hate cats - 3 tokens\n",
        "\n",
        "2. the dog is brown and likes cats - 8 tokens\n",
        "\n",
        "3. for the - 2 tokens\n",
        "\n",
        "\n"
      ],
      "metadata": {
        "id": "0Ig-RXfjrINI"
      }
    },
    {
      "cell_type": "markdown",
      "source": [
        "### Tokenizer\n"
      ],
      "metadata": {
        "id": "rh_smhrtrKmp"
      }
    },
    {
      "cell_type": "markdown",
      "source": [
        "One way to encode text features to numeric features is using <b>one-hot-encoding</b> or <b>multi-hot-encoding</b>. The one-hot and multi-hot-encoding vector is a vector consisting of all zeros; if the sequence of text contains a specific word, then an element of the vector is set to one. Consider the vocabulary that consists of all the words in the list ```samples``` each vector will have an element assigned to it shown here:\n"
      ],
      "metadata": {
        "id": "n-SKFC0orVp2"
      }
    },
    {
      "cell_type": "markdown",
      "source": [
        "<img src=\"https://cf-courses-data.s3.us.cloud-object-storage.appdomain.cloud/IBMDeveloperSkillsNetwork-ML311-Coursera/labs/Module4/L1/one_hot.png\" width=\"200\" height=\"250\">\n"
      ],
      "metadata": {
        "id": "BGLy2PWvrY9n"
      }
    },
    {
      "cell_type": "markdown",
      "source": [
        "Keras has an additional component for words not in the vocabulary that we will leave out in this explanation. We have ten words; therefore, the vector will have ten elements. For example, we have the vector for the word ```I``` given by:\n"
      ],
      "metadata": {
        "id": "61hMa2AVrb_Q"
      }
    },
    {
      "cell_type": "markdown",
      "source": [
        "<img src=\"https://cf-courses-data.s3.us.cloud-object-storage.appdomain.cloud/IBMDeveloperSkillsNetwork-ML311-Coursera/labs/Module4/L1/I.png\" width=\"550\" height=\"650\">\n"
      ],
      "metadata": {
        "id": "S3Z667XtreSX"
      }
    },
    {
      "cell_type": "markdown",
      "source": [
        "All the elements in the vector are zero except for the index corresponding to the word ```I```; this is an example of one-hot-encoding. For **multi-hot-encoding** the sentence 'I hate cats', the vector is given by the following:\n"
      ],
      "metadata": {
        "id": "Wl-i9wTfrha4"
      }
    },
    {
      "cell_type": "markdown",
      "source": [
        "<img src=\"https://cf-courses-data.s3.us.cloud-object-storage.appdomain.cloud/IBMDeveloperSkillsNetwork-ML311-Coursera/labs/Module4/L1/I_hate_cats.png\" width=\"550\" height=\"650\">\n"
      ],
      "metadata": {
        "id": "nmFqgLZRrkcG"
      }
    },
    {
      "cell_type": "markdown",
      "source": [
        "We can also represent the sequence as three one-hot-encoding vectors. We see that for each word that occurs, the value in the vector is set to one; else, they are set to zero; the dimension of both encoding vectors is equal to the number of unique words in the corpus (vocabulary).\n",
        "\n",
        "Lets see how to convert a sequence of multi-hot-encoding vectors.\n"
      ],
      "metadata": {
        "id": "7OTMhcfCroCI"
      }
    },
    {
      "cell_type": "markdown",
      "source": [
        "###  Embedding\n",
        "\n",
        "An embedding layer in Keras can be used when we want to create the embedding. These embeddings are learnable parameters that embed high dimensional data into lower dimensional vectors. Lets assume we have the embedding for the vocabulary above, we can represent the vocabulary as a list of parameter vectors $[w_{I}, w_{cats}, w_{the}, w_{hate}, w_{dog}, w_{is}, w_{brown},w_{and}, w_{like }, w_{for} ] $ .   \n",
        "\n",
        "Thus, we can obtain the embedding for the sentence **\"I hate cats\"** by first performing one-hot-encoding for each token (as shown on the right) and then performing the matrix multiplication with the parameter vectors on the left:\n",
        "\n",
        "<img src=\"https://cf-courses-data.s3.us.cloud-object-storage.appdomain.cloud/IBMDeveloperSkillsNetwork-ML311-Coursera/labs/Module4/L1/Ihat_cats_embeding.png\" width=\"1000\" height=\"1200\">\n"
      ],
      "metadata": {
        "id": "Plz0ICkgrrXR"
      }
    },
    {
      "cell_type": "markdown",
      "source": [
        "We represent the matrix as a set of three **one-hot-encoded** column vectors. We see the resultant vector is 1x3 **(output dimension x input length)** as Keras transposes this result. The input length is the number of words in a sentence. In this case, the output dimension is one, but it is usually a free parameter that you set as the number of dimensions of the low-dimensional space.\n",
        "\n",
        "We see that the operation is wasteful as we are multiplying many vectors by zeros. In real world applications, the one-hot-encoding is thousands of dimensions long. As a result, we use an **embedding layer**; this layer simply **outputs the parameters given the indexes**, as shown below. We can use these embeddings as the input to a neural network. Note that the parameters of an embedding layer are randomly initialized and are updated when training the neural network, just like the fully connected layers:\n"
      ],
      "metadata": {
        "id": "Dpco1Dxbruh7"
      }
    },
    {
      "cell_type": "markdown",
      "source": [
        "<img src=\"https://cf-courses-data.s3.us.cloud-object-storage.appdomain.cloud/IBMDeveloperSkillsNetwork-ML311-Coursera/labs/Module4/L1/I_hate_cats_embeding.png\" width=\"1000\" height=\"1200\">\n"
      ],
      "metadata": {
        "id": "KlGB5TMdrxil"
      }
    },
    {
      "cell_type": "markdown",
      "source": [
        "## Tokenizer in Keras\n"
      ],
      "metadata": {
        "id": "NQ6yuSP0r0s9"
      }
    },
    {
      "cell_type": "markdown",
      "source": [
        "Keras has the class ``Tokenizer`` that allows you to vectorize a text by turning each word into either a sequence of integers or a vector where the coefficient for each token is binary, based on word count. We will use the following parameters:\n",
        "\n",
        "```num_words```: the maximum number of words to keep in a sentence, based on the highest word frequencies, that is, only the **most common** ``num_words`` words will be kept.\n",
        "\n",
        "```filters```: a string that contains characters that will be filtered from the texts. The default is all the punctuations, tabs, line breaks, and the ' character.\n",
        "\n",
        "```lower```: boolean type, indicates whether to convert the texts to lowercase.\n",
        "\n",
        "```split```: str, indicates the separator for word splitting.\n",
        "\n",
        "We create the ```Tokenizer``` object:\n"
      ],
      "metadata": {
        "id": "n_ZTEm3VsROc"
      }
    },
    {
      "cell_type": "code",
      "source": [
        "tokenizer = Tokenizer(num_words=11)"
      ],
      "metadata": {
        "id": "x-Ks2g4AsTlv"
      },
      "execution_count": 11,
      "outputs": []
    },
    {
      "cell_type": "markdown",
      "source": [
        "To fit the tokenizer to our text data, we call the method ```fit_on_texts```. The layer will build a corpus (vocabulary) of all string tokens obtained from the samples, and each word in the vocabulary will be represented by an integer or a vector.\n"
      ],
      "metadata": {
        "id": "U492icXFsWKl"
      }
    },
    {
      "cell_type": "code",
      "source": [
        "tokenizer.fit_on_texts(samples)"
      ],
      "metadata": {
        "id": "hOsjycacsYNL"
      },
      "execution_count": 12,
      "outputs": []
    },
    {
      "cell_type": "markdown",
      "source": [
        "The attribute ```word_counts``` is a list of words, tokens, and the corresponding number of times they appeared in the samples:\n"
      ],
      "metadata": {
        "id": "5caJI7oosb9a"
      }
    },
    {
      "cell_type": "code",
      "source": [
        "word_counts=tokenizer.word_counts\n",
        "word_counts"
      ],
      "metadata": {
        "colab": {
          "base_uri": "https://localhost:8080/"
        },
        "id": "iSJg5Q0fseNI",
        "outputId": "113de570-3ef1-4c4c-e98c-b558fca0f438"
      },
      "execution_count": 13,
      "outputs": [
        {
          "output_type": "execute_result",
          "data": {
            "text/plain": [
              "OrderedDict([('i', 2),\n",
              "             ('hate', 1),\n",
              "             ('cats', 2),\n",
              "             ('the', 2),\n",
              "             ('dog', 1),\n",
              "             ('is', 1),\n",
              "             ('brown', 1),\n",
              "             ('and', 1),\n",
              "             ('like', 1),\n",
              "             ('for', 1)])"
            ]
          },
          "metadata": {},
          "execution_count": 13
        }
      ]
    },
    {
      "cell_type": "markdown",
      "source": [
        "We can use the method ```texts_to_matrix``` to perform multi-hot encoding, where each element of the resultant vector is set to one if the corresponding word exists in the sequence; else, the element is set to zero. Here we perform multi-hot encoding for each word in the different sequences:\n"
      ],
      "metadata": {
        "id": "RZbLlXbLsguE"
      }
    },
    {
      "cell_type": "code",
      "source": [
        "for key in tokenizer.word_counts.keys():\n",
        "\n",
        "    print(key)\n",
        "    print(tokenizer.texts_to_matrix([key]))"
      ],
      "metadata": {
        "colab": {
          "base_uri": "https://localhost:8080/"
        },
        "id": "ZR7jmgQZsilW",
        "outputId": "69f22fb5-7144-41d9-a6b5-665e07ba84fe"
      },
      "execution_count": 14,
      "outputs": [
        {
          "output_type": "stream",
          "name": "stdout",
          "text": [
            "i\n",
            "[[0. 1. 0. 0. 0. 0. 0. 0. 0. 0. 0.]]\n",
            "hate\n",
            "[[0. 0. 0. 0. 1. 0. 0. 0. 0. 0. 0.]]\n",
            "cats\n",
            "[[0. 0. 1. 0. 0. 0. 0. 0. 0. 0. 0.]]\n",
            "the\n",
            "[[0. 0. 0. 1. 0. 0. 0. 0. 0. 0. 0.]]\n",
            "dog\n",
            "[[0. 0. 0. 0. 0. 1. 0. 0. 0. 0. 0.]]\n",
            "is\n",
            "[[0. 0. 0. 0. 0. 0. 1. 0. 0. 0. 0.]]\n",
            "brown\n",
            "[[0. 0. 0. 0. 0. 0. 0. 1. 0. 0. 0.]]\n",
            "and\n",
            "[[0. 0. 0. 0. 0. 0. 0. 0. 1. 0. 0.]]\n",
            "like\n",
            "[[0. 0. 0. 0. 0. 0. 0. 0. 0. 1. 0.]]\n",
            "for\n",
            "[[0. 0. 0. 0. 0. 0. 0. 0. 0. 0. 1.]]\n"
          ]
        }
      ]
    },
    {
      "cell_type": "markdown",
      "source": [
        "As there is a total of ten words in the sequence, the vector has ten elements; each element in the vector corresponds to a different word.\n"
      ],
      "metadata": {
        "id": "0Pjxczh3sk_r"
      }
    },
    {
      "cell_type": "code",
      "source": [
        "for sample  in samples:\n",
        "\n",
        "    print(sample)\n",
        "    print(tokenizer.texts_to_matrix([sample]))"
      ],
      "metadata": {
        "colab": {
          "base_uri": "https://localhost:8080/"
        },
        "id": "m7ucFQnDsnT7",
        "outputId": "632393d9-2bc4-4bb4-8e6b-4b374a8e1b25"
      },
      "execution_count": 15,
      "outputs": [
        {
          "output_type": "stream",
          "name": "stdout",
          "text": [
            "I hate cats\n",
            "[[0. 1. 1. 0. 1. 0. 0. 0. 0. 0. 0.]]\n",
            "the dog is brown and I like cats\n",
            "[[0. 1. 1. 1. 0. 1. 1. 1. 1. 1. 0.]]\n",
            "for the\n",
            "[[0. 0. 0. 1. 0. 0. 0. 0. 0. 0. 1.]]\n"
          ]
        }
      ]
    },
    {
      "cell_type": "markdown",
      "source": [
        "We can also apply different NLP transformations using the parameter ```mode```.\n"
      ],
      "metadata": {
        "id": "GjoZxrAIspcp"
      }
    },
    {
      "cell_type": "code",
      "source": [
        "modes=[ \"binary\", \"count\", \"tfidf\", \"freq\"]\n",
        "for mode in modes:\n",
        "    print(\"mode:\",mode)\n",
        "    for sample  in samples:\n",
        "\n",
        "        print(sample)\n",
        "        print(tokenizer.texts_to_matrix([sample],mode=mode))"
      ],
      "metadata": {
        "colab": {
          "base_uri": "https://localhost:8080/"
        },
        "id": "ZydRqfktssO-",
        "outputId": "7fb75b86-99df-43e3-994f-3d89f0d07eaa"
      },
      "execution_count": 16,
      "outputs": [
        {
          "output_type": "stream",
          "name": "stdout",
          "text": [
            "mode: binary\n",
            "I hate cats\n",
            "[[0. 1. 1. 0. 1. 0. 0. 0. 0. 0. 0.]]\n",
            "the dog is brown and I like cats\n",
            "[[0. 1. 1. 1. 0. 1. 1. 1. 1. 1. 0.]]\n",
            "for the\n",
            "[[0. 0. 0. 1. 0. 0. 0. 0. 0. 0. 1.]]\n",
            "mode: count\n",
            "I hate cats\n",
            "[[0. 1. 1. 0. 1. 0. 0. 0. 0. 0. 0.]]\n",
            "the dog is brown and I like cats\n",
            "[[0. 1. 1. 1. 0. 1. 1. 1. 1. 1. 0.]]\n",
            "for the\n",
            "[[0. 0. 0. 1. 0. 0. 0. 0. 0. 0. 1.]]\n",
            "mode: tfidf\n",
            "I hate cats\n",
            "[[0.         0.69314718 0.69314718 0.         0.91629073 0.\n",
            "  0.         0.         0.         0.         0.        ]]\n",
            "the dog is brown and I like cats\n",
            "[[0.         0.69314718 0.69314718 0.69314718 0.         0.91629073\n",
            "  0.91629073 0.91629073 0.91629073 0.91629073 0.        ]]\n",
            "for the\n",
            "[[0.         0.         0.         0.69314718 0.         0.\n",
            "  0.         0.         0.         0.         0.91629073]]\n",
            "mode: freq\n",
            "I hate cats\n",
            "[[0.         0.33333333 0.33333333 0.         0.33333333 0.\n",
            "  0.         0.         0.         0.         0.        ]]\n",
            "the dog is brown and I like cats\n",
            "[[0.    0.125 0.125 0.125 0.    0.125 0.125 0.125 0.125 0.125 0.   ]]\n",
            "for the\n",
            "[[0.  0.  0.  0.5 0.  0.  0.  0.  0.  0.  0.5]]\n"
          ]
        }
      ]
    },
    {
      "cell_type": "markdown",
      "source": [
        "In many cases, Multi-hot encoding is redundant. As a result, we use the method ```texts_to_sequences```. This method will output an integer sequence where each integer corresponds to the index of the element in the corpus. The sequence length is equal to the number of words or tokens in the input sequence, as opposed to the number of words in the entire vocabulary like in Multi-hot encoding.\n"
      ],
      "metadata": {
        "id": "MpG1JsCFsvD_"
      }
    },
    {
      "cell_type": "code",
      "source": [
        "for sample  in samples:\n",
        "\n",
        "    print(sample)\n",
        "    print(tokenizer.texts_to_sequences([sample]))"
      ],
      "metadata": {
        "colab": {
          "base_uri": "https://localhost:8080/"
        },
        "id": "ogx7AHh_sxhU",
        "outputId": "823d26f4-c20c-4ef9-e2a2-88deabfb1497"
      },
      "execution_count": 17,
      "outputs": [
        {
          "output_type": "stream",
          "name": "stdout",
          "text": [
            "I hate cats\n",
            "[[1, 4, 2]]\n",
            "the dog is brown and I like cats\n",
            "[[3, 5, 6, 7, 8, 1, 9, 2]]\n",
            "for the\n",
            "[[10, 3]]\n"
          ]
        }
      ]
    },
    {
      "cell_type": "markdown",
      "source": [
        "\n",
        "\n",
        "\n",
        "\n",
        "### Input Dimension\n"
      ],
      "metadata": {
        "id": "CKqVWDtrs0kE"
      }
    },
    {
      "cell_type": "markdown",
      "source": [
        "Let's look at an example where we want to output the integer **input_dim**, which is the size of the vocabulary or maximum integer index.\n"
      ],
      "metadata": {
        "id": "uMDjMQ-Zs90w"
      }
    },
    {
      "cell_type": "code",
      "source": [
        "import tensorflow as tf\n",
        "from tensorflow.keras.layers import Embedding, Dense, Flatten\n",
        "from tensorflow.keras.models import Sequential\n",
        "from tensorflow.keras import Input\n",
        "\n",
        "import numpy as np\n",
        "\n",
        "\n",
        "model = Sequential()\n",
        "\n",
        "input_dim=3\n",
        "output_dim=1\n",
        "input_length=1\n",
        "model.add(Embedding(input_dim=input_dim, output_dim=output_dim,input_length=input_length))\n",
        "\n",
        "model.summary()"
      ],
      "metadata": {
        "colab": {
          "base_uri": "https://localhost:8080/",
          "height": 161
        },
        "id": "hQ-VTxkOs0Ke",
        "outputId": "a2aad68f-d7c5-47d8-a382-35e35fdd5983"
      },
      "execution_count": 18,
      "outputs": [
        {
          "output_type": "display_data",
          "data": {
            "text/plain": [
              "\u001b[1mModel: \"sequential\"\u001b[0m\n"
            ],
            "text/html": [
              "<pre style=\"white-space:pre;overflow-x:auto;line-height:normal;font-family:Menlo,'DejaVu Sans Mono',consolas,'Courier New',monospace\"><span style=\"font-weight: bold\">Model: \"sequential\"</span>\n",
              "</pre>\n"
            ]
          },
          "metadata": {}
        },
        {
          "output_type": "display_data",
          "data": {
            "text/plain": [
              "┏━━━━━━━━━━━━━━━━━━━━━━━━━━━━━━━━━┳━━━━━━━━━━━━━━━━━━━━━━━━┳━━━━━━━━━━━━━━━┓\n",
              "┃\u001b[1m \u001b[0m\u001b[1mLayer (type)                   \u001b[0m\u001b[1m \u001b[0m┃\u001b[1m \u001b[0m\u001b[1mOutput Shape          \u001b[0m\u001b[1m \u001b[0m┃\u001b[1m \u001b[0m\u001b[1m      Param #\u001b[0m\u001b[1m \u001b[0m┃\n",
              "┡━━━━━━━━━━━━━━━━━━━━━━━━━━━━━━━━━╇━━━━━━━━━━━━━━━━━━━━━━━━╇━━━━━━━━━━━━━━━┩\n",
              "│ embedding (\u001b[38;5;33mEmbedding\u001b[0m)           │ ?                      │   \u001b[38;5;34m0\u001b[0m (unbuilt) │\n",
              "└─────────────────────────────────┴────────────────────────┴───────────────┘\n"
            ],
            "text/html": [
              "<pre style=\"white-space:pre;overflow-x:auto;line-height:normal;font-family:Menlo,'DejaVu Sans Mono',consolas,'Courier New',monospace\">┏━━━━━━━━━━━━━━━━━━━━━━━━━━━━━━━━━┳━━━━━━━━━━━━━━━━━━━━━━━━┳━━━━━━━━━━━━━━━┓\n",
              "┃<span style=\"font-weight: bold\"> Layer (type)                    </span>┃<span style=\"font-weight: bold\"> Output Shape           </span>┃<span style=\"font-weight: bold\">       Param # </span>┃\n",
              "┡━━━━━━━━━━━━━━━━━━━━━━━━━━━━━━━━━╇━━━━━━━━━━━━━━━━━━━━━━━━╇━━━━━━━━━━━━━━━┩\n",
              "│ embedding (<span style=\"color: #0087ff; text-decoration-color: #0087ff\">Embedding</span>)           │ ?                      │   <span style=\"color: #00af00; text-decoration-color: #00af00\">0</span> (unbuilt) │\n",
              "└─────────────────────────────────┴────────────────────────┴───────────────┘\n",
              "</pre>\n"
            ]
          },
          "metadata": {}
        },
        {
          "output_type": "display_data",
          "data": {
            "text/plain": [
              "\u001b[1m Total params: \u001b[0m\u001b[38;5;34m0\u001b[0m (0.00 B)\n"
            ],
            "text/html": [
              "<pre style=\"white-space:pre;overflow-x:auto;line-height:normal;font-family:Menlo,'DejaVu Sans Mono',consolas,'Courier New',monospace\"><span style=\"font-weight: bold\"> Total params: </span><span style=\"color: #00af00; text-decoration-color: #00af00\">0</span> (0.00 B)\n",
              "</pre>\n"
            ]
          },
          "metadata": {}
        },
        {
          "output_type": "display_data",
          "data": {
            "text/plain": [
              "\u001b[1m Trainable params: \u001b[0m\u001b[38;5;34m0\u001b[0m (0.00 B)\n"
            ],
            "text/html": [
              "<pre style=\"white-space:pre;overflow-x:auto;line-height:normal;font-family:Menlo,'DejaVu Sans Mono',consolas,'Courier New',monospace\"><span style=\"font-weight: bold\"> Trainable params: </span><span style=\"color: #00af00; text-decoration-color: #00af00\">0</span> (0.00 B)\n",
              "</pre>\n"
            ]
          },
          "metadata": {}
        },
        {
          "output_type": "display_data",
          "data": {
            "text/plain": [
              "\u001b[1m Non-trainable params: \u001b[0m\u001b[38;5;34m0\u001b[0m (0.00 B)\n"
            ],
            "text/html": [
              "<pre style=\"white-space:pre;overflow-x:auto;line-height:normal;font-family:Menlo,'DejaVu Sans Mono',consolas,'Courier New',monospace\"><span style=\"font-weight: bold\"> Non-trainable params: </span><span style=\"color: #00af00; text-decoration-color: #00af00\">0</span> (0.00 B)\n",
              "</pre>\n"
            ]
          },
          "metadata": {}
        }
      ]
    },
    {
      "cell_type": "markdown",
      "source": [
        "Keras randomly initialize the weights, so let's set each weight to the index it belongs to:\n"
      ],
      "metadata": {
        "id": "g_vTtWH-tB_F"
      }
    },
    {
      "cell_type": "code",
      "source": [
        "model.get_weights()\n",
        "weights=np.array([0,1,2]).reshape(-1,1)\n",
        "\n",
        "# Build the model by providing a sample input shape\n",
        "model.build(input_shape=(None, input_length))\n",
        "\n",
        "model.set_weights([weights])\n",
        "model.get_weights()"
      ],
      "metadata": {
        "colab": {
          "base_uri": "https://localhost:8080/"
        },
        "id": "nQK8jEhTtD2-",
        "outputId": "c6432f60-edc0-421e-bb8e-054a5a09996d"
      },
      "execution_count": 19,
      "outputs": [
        {
          "output_type": "execute_result",
          "data": {
            "text/plain": [
              "[array([[0.],\n",
              "        [1.],\n",
              "        [2.]], dtype=float32)]"
            ]
          },
          "metadata": {},
          "execution_count": 19
        }
      ]
    },
    {
      "cell_type": "markdown",
      "source": [
        "We can apply the function to each integer. The embedding layer will return the parameter value(s) or vector(s) on the position(s) which have the index value(s) equal to the integer(s) in the sequence.\n"
      ],
      "metadata": {
        "id": "nh8YCN2MtGXn"
      }
    },
    {
      "cell_type": "code",
      "source": [
        "for n in range(3):\n",
        "    x=np.array([[n]])\n",
        "    print(\"input x={}\".format(n))\n",
        "    z=model.predict(x)\n",
        "    print(\"output z={}\".format(z.tolist()))"
      ],
      "metadata": {
        "colab": {
          "base_uri": "https://localhost:8080/"
        },
        "id": "Ccc6uHqmtG96",
        "outputId": "c7ff9942-e9f2-44ed-ed0b-10ae7f051e2e"
      },
      "execution_count": 20,
      "outputs": [
        {
          "output_type": "stream",
          "name": "stdout",
          "text": [
            "input x=0\n",
            "\u001b[1m1/1\u001b[0m \u001b[32m━━━━━━━━━━━━━━━━━━━━\u001b[0m\u001b[37m\u001b[0m \u001b[1m0s\u001b[0m 121ms/step\n",
            "output z=[[[0.0]]]\n",
            "input x=1\n",
            "\u001b[1m1/1\u001b[0m \u001b[32m━━━━━━━━━━━━━━━━━━━━\u001b[0m\u001b[37m\u001b[0m \u001b[1m0s\u001b[0m 60ms/step\n",
            "output z=[[[1.0]]]\n",
            "input x=2\n",
            "\u001b[1m1/1\u001b[0m \u001b[32m━━━━━━━━━━━━━━━━━━━━\u001b[0m\u001b[37m\u001b[0m \u001b[1m0s\u001b[0m 70ms/step\n",
            "output z=[[[2.0]]]\n"
          ]
        }
      ]
    },
    {
      "cell_type": "markdown",
      "source": [
        "We can also apply the method to multiple samples, by making each sample a different sample in the batch dimension or as multiple samples in a row:\n"
      ],
      "metadata": {
        "id": "K5HXCPcttL4S"
      }
    },
    {
      "cell_type": "code",
      "source": [
        "z = model.predict(np.array([[0],[1],[2]]))\n",
        "print(\"different samples in the batch dimension:\\n\",z)\n",
        "z = model.predict(np.array([0,1,2]).reshape(-1, 1))\n",
        "print(\" multiple samples in a row: \\n\",z)"
      ],
      "metadata": {
        "colab": {
          "base_uri": "https://localhost:8080/"
        },
        "id": "NoCbyhESurSu",
        "outputId": "80d9d235-f2dc-47e4-84d6-5ce32f15a170"
      },
      "execution_count": 21,
      "outputs": [
        {
          "output_type": "stream",
          "name": "stdout",
          "text": [
            "\u001b[1m1/1\u001b[0m \u001b[32m━━━━━━━━━━━━━━━━━━━━\u001b[0m\u001b[37m\u001b[0m \u001b[1m0s\u001b[0m 237ms/step\n",
            "different samples in the batch dimension:\n",
            " [[[0.]]\n",
            "\n",
            " [[1.]]\n",
            "\n",
            " [[2.]]]\n",
            "\u001b[1m1/1\u001b[0m \u001b[32m━━━━━━━━━━━━━━━━━━━━\u001b[0m\u001b[37m\u001b[0m \u001b[1m0s\u001b[0m 112ms/step\n",
            " multiple samples in a row: \n",
            " [[[0.]]\n",
            "\n",
            " [[1.]]\n",
            "\n",
            " [[2.]]]\n"
          ]
        }
      ]
    },
    {
      "cell_type": "markdown",
      "source": [
        "If you use the ```Sequential``` class, you must specify the input shape ```input_length``` so the model can be built with the proper set of parameters; ```input_length``` is the size of each input sequence.\n"
      ],
      "metadata": {
        "id": "qVEvRhWUuzv3"
      }
    },
    {
      "cell_type": "markdown",
      "source": [
        "### Output shape\n",
        "\n",
        "Output shape is the number of parameters, using the matrix multiplication analogy: if the input is a multi-hot encoding column vector and the embedding is a matrix, the ```output_dim``` is the number of columns in the matrix. Consider the example of converting a number to its binary number equivalent, and we will represent each element of the binary number as a different dimension in the output.\n",
        "\n",
        "Let's convert the numbers from 0 to 3. As we have four numbers the parameter ```input_dim=4```. As we need two binary digits or bits to represent the numbers from one to three the ```output_dim=2```.\n"
      ],
      "metadata": {
        "id": "2aL_jmlWu15s"
      }
    },
    {
      "cell_type": "code",
      "source": [
        "input_dim=4\n",
        "output_dim=2\n",
        "input_length=1\n",
        "model = Sequential()\n",
        "model.add(Embedding(input_dim=input_dim, output_dim=output_dim, input_length=input_length))\n",
        "model.summary()"
      ],
      "metadata": {
        "colab": {
          "base_uri": "https://localhost:8080/",
          "height": 161
        },
        "id": "l3H4ETlhu4Aa",
        "outputId": "cef78238-5b6e-4422-abdb-eb82d30717d3"
      },
      "execution_count": 22,
      "outputs": [
        {
          "output_type": "display_data",
          "data": {
            "text/plain": [
              "\u001b[1mModel: \"sequential_1\"\u001b[0m\n"
            ],
            "text/html": [
              "<pre style=\"white-space:pre;overflow-x:auto;line-height:normal;font-family:Menlo,'DejaVu Sans Mono',consolas,'Courier New',monospace\"><span style=\"font-weight: bold\">Model: \"sequential_1\"</span>\n",
              "</pre>\n"
            ]
          },
          "metadata": {}
        },
        {
          "output_type": "display_data",
          "data": {
            "text/plain": [
              "┏━━━━━━━━━━━━━━━━━━━━━━━━━━━━━━━━━┳━━━━━━━━━━━━━━━━━━━━━━━━┳━━━━━━━━━━━━━━━┓\n",
              "┃\u001b[1m \u001b[0m\u001b[1mLayer (type)                   \u001b[0m\u001b[1m \u001b[0m┃\u001b[1m \u001b[0m\u001b[1mOutput Shape          \u001b[0m\u001b[1m \u001b[0m┃\u001b[1m \u001b[0m\u001b[1m      Param #\u001b[0m\u001b[1m \u001b[0m┃\n",
              "┡━━━━━━━━━━━━━━━━━━━━━━━━━━━━━━━━━╇━━━━━━━━━━━━━━━━━━━━━━━━╇━━━━━━━━━━━━━━━┩\n",
              "│ embedding_1 (\u001b[38;5;33mEmbedding\u001b[0m)         │ ?                      │   \u001b[38;5;34m0\u001b[0m (unbuilt) │\n",
              "└─────────────────────────────────┴────────────────────────┴───────────────┘\n"
            ],
            "text/html": [
              "<pre style=\"white-space:pre;overflow-x:auto;line-height:normal;font-family:Menlo,'DejaVu Sans Mono',consolas,'Courier New',monospace\">┏━━━━━━━━━━━━━━━━━━━━━━━━━━━━━━━━━┳━━━━━━━━━━━━━━━━━━━━━━━━┳━━━━━━━━━━━━━━━┓\n",
              "┃<span style=\"font-weight: bold\"> Layer (type)                    </span>┃<span style=\"font-weight: bold\"> Output Shape           </span>┃<span style=\"font-weight: bold\">       Param # </span>┃\n",
              "┡━━━━━━━━━━━━━━━━━━━━━━━━━━━━━━━━━╇━━━━━━━━━━━━━━━━━━━━━━━━╇━━━━━━━━━━━━━━━┩\n",
              "│ embedding_1 (<span style=\"color: #0087ff; text-decoration-color: #0087ff\">Embedding</span>)         │ ?                      │   <span style=\"color: #00af00; text-decoration-color: #00af00\">0</span> (unbuilt) │\n",
              "└─────────────────────────────────┴────────────────────────┴───────────────┘\n",
              "</pre>\n"
            ]
          },
          "metadata": {}
        },
        {
          "output_type": "display_data",
          "data": {
            "text/plain": [
              "\u001b[1m Total params: \u001b[0m\u001b[38;5;34m0\u001b[0m (0.00 B)\n"
            ],
            "text/html": [
              "<pre style=\"white-space:pre;overflow-x:auto;line-height:normal;font-family:Menlo,'DejaVu Sans Mono',consolas,'Courier New',monospace\"><span style=\"font-weight: bold\"> Total params: </span><span style=\"color: #00af00; text-decoration-color: #00af00\">0</span> (0.00 B)\n",
              "</pre>\n"
            ]
          },
          "metadata": {}
        },
        {
          "output_type": "display_data",
          "data": {
            "text/plain": [
              "\u001b[1m Trainable params: \u001b[0m\u001b[38;5;34m0\u001b[0m (0.00 B)\n"
            ],
            "text/html": [
              "<pre style=\"white-space:pre;overflow-x:auto;line-height:normal;font-family:Menlo,'DejaVu Sans Mono',consolas,'Courier New',monospace\"><span style=\"font-weight: bold\"> Trainable params: </span><span style=\"color: #00af00; text-decoration-color: #00af00\">0</span> (0.00 B)\n",
              "</pre>\n"
            ]
          },
          "metadata": {}
        },
        {
          "output_type": "display_data",
          "data": {
            "text/plain": [
              "\u001b[1m Non-trainable params: \u001b[0m\u001b[38;5;34m0\u001b[0m (0.00 B)\n"
            ],
            "text/html": [
              "<pre style=\"white-space:pre;overflow-x:auto;line-height:normal;font-family:Menlo,'DejaVu Sans Mono',consolas,'Courier New',monospace\"><span style=\"font-weight: bold\"> Non-trainable params: </span><span style=\"color: #00af00; text-decoration-color: #00af00\">0</span> (0.00 B)\n",
              "</pre>\n"
            ]
          },
          "metadata": {}
        }
      ]
    },
    {
      "cell_type": "markdown",
      "source": [
        "We assign the ```weights``` to represent binary numbers;\n"
      ],
      "metadata": {
        "id": "gY20wl5Iu7sd"
      }
    },
    {
      "cell_type": "code",
      "source": [
        "weights=np.array([[0,0],[0,1],[1,0],[1,1]])\n",
        "\n",
        "# Build the model by providing a sample input shape\n",
        "model.build(input_shape=(None, input_length))\n",
        "\n",
        "model.set_weights([weights])\n",
        "model.get_weights()"
      ],
      "metadata": {
        "colab": {
          "base_uri": "https://localhost:8080/"
        },
        "id": "Vrru-gnku9eQ",
        "outputId": "b8ad4030-da83-4d10-c5d7-ad07acece467"
      },
      "execution_count": 23,
      "outputs": [
        {
          "output_type": "execute_result",
          "data": {
            "text/plain": [
              "[array([[0., 0.],\n",
              "        [0., 1.],\n",
              "        [1., 0.],\n",
              "        [1., 1.]], dtype=float32)]"
            ]
          },
          "metadata": {},
          "execution_count": 23
        }
      ]
    },
    {
      "cell_type": "markdown",
      "source": [
        "For each input integer, the output of the embedding is the corresponding binary number:\n"
      ],
      "metadata": {
        "id": "my-Mp79KvASd"
      }
    },
    {
      "cell_type": "code",
      "source": [
        "for n in range(4):\n",
        "    x=np.array([[n]])\n",
        "    print(\"input x={}\".format(n))\n",
        "    z=model.predict(x)\n",
        "    print(\"input binary={}\".format(z.tolist() ))"
      ],
      "metadata": {
        "colab": {
          "base_uri": "https://localhost:8080/"
        },
        "id": "spKhUsMUvB6M",
        "outputId": "de32d6ef-27bc-4d0e-829f-7c0084ddf750"
      },
      "execution_count": 24,
      "outputs": [
        {
          "output_type": "stream",
          "name": "stdout",
          "text": [
            "input x=0\n",
            "\u001b[1m1/1\u001b[0m \u001b[32m━━━━━━━━━━━━━━━━━━━━\u001b[0m\u001b[37m\u001b[0m \u001b[1m0s\u001b[0m 63ms/step\n",
            "input binary=[[[0.0, 0.0]]]\n",
            "input x=1\n",
            "\u001b[1m1/1\u001b[0m \u001b[32m━━━━━━━━━━━━━━━━━━━━\u001b[0m\u001b[37m\u001b[0m \u001b[1m0s\u001b[0m 39ms/step\n",
            "input binary=[[[0.0, 1.0]]]\n",
            "input x=2\n",
            "\u001b[1m1/1\u001b[0m \u001b[32m━━━━━━━━━━━━━━━━━━━━\u001b[0m\u001b[37m\u001b[0m \u001b[1m0s\u001b[0m 37ms/step\n",
            "input binary=[[[1.0, 0.0]]]\n",
            "input x=3\n",
            "\u001b[1m1/1\u001b[0m \u001b[32m━━━━━━━━━━━━━━━━━━━━\u001b[0m\u001b[37m\u001b[0m \u001b[1m0s\u001b[0m 39ms/step\n",
            "input binary=[[[1.0, 1.0]]]\n"
          ]
        }
      ]
    },
    {
      "cell_type": "markdown",
      "source": [
        "in order to use the embedding, we go with seqeuntial\n"
      ],
      "metadata": {
        "id": "x6TeVkkDvEmg"
      }
    },
    {
      "cell_type": "markdown",
      "source": [
        "### Padding Sequences\n"
      ],
      "metadata": {
        "id": "EBX8NM6XvGgI"
      }
    },
    {
      "cell_type": "markdown",
      "source": [
        "Usually, sequences are of different lengths. Consider our original sequence:\n"
      ],
      "metadata": {
        "id": "DDDbyM5cvJdT"
      }
    },
    {
      "cell_type": "code",
      "source": [
        "samples=['I hate cats','the dog is brown and I like cats','for the']\n",
        "for sample in samples:\n",
        "    print(\"sample:\",sample)\n",
        "    print(\"length:\",len(sample))"
      ],
      "metadata": {
        "colab": {
          "base_uri": "https://localhost:8080/"
        },
        "id": "oqRcojp_vK42",
        "outputId": "07ba41ed-40fd-46dc-e52c-e3c4ef02eb4e"
      },
      "execution_count": 25,
      "outputs": [
        {
          "output_type": "stream",
          "name": "stdout",
          "text": [
            "sample: I hate cats\n",
            "length: 11\n",
            "sample: the dog is brown and I like cats\n",
            "length: 32\n",
            "sample: for the\n",
            "length: 7\n"
          ]
        }
      ]
    },
    {
      "cell_type": "markdown",
      "source": [
        "When we apply the ```Tokenizer``` we apply the method ```texts_to_sequences``` we see each sequence is also a different length:\n"
      ],
      "metadata": {
        "id": "3TlJbn3cvRlA"
      }
    },
    {
      "cell_type": "code",
      "source": [
        "tokenizer = Tokenizer(num_words=12)\n",
        "tokenizer.fit_on_texts(samples)\n",
        "tokens=tokenizer.texts_to_sequences(samples)\n",
        "print(\"tokens\",tokens)"
      ],
      "metadata": {
        "colab": {
          "base_uri": "https://localhost:8080/"
        },
        "id": "eCEUTo-wvTnv",
        "outputId": "b15ed7e6-f8ce-4f44-f76f-11813ddb2ad8"
      },
      "execution_count": 26,
      "outputs": [
        {
          "output_type": "stream",
          "name": "stdout",
          "text": [
            "tokens [[1, 4, 2], [3, 5, 6, 7, 8, 1, 9, 2], [10, 3]]\n"
          ]
        }
      ]
    },
    {
      "cell_type": "markdown",
      "source": [
        "To make sure the sequences are the same length, we apply the function ```pad_sequences```. The function transforms a sequence into a 2D Numpy array with the number of rows equal to the number of samples and the number of columns equal to the parameter ```maxlen``` (the length of the longest sequence in the list). Sequences that are shorter than ```maxlen``` are padded with the parameter ```value```, which is by default zero.\n",
        "\n",
        "Consider the following example:\n"
      ],
      "metadata": {
        "id": "-vJHS946vWXA"
      }
    },
    {
      "cell_type": "code",
      "source": [
        "maxlen=9\n",
        "x =pad_sequences(tokens, maxlen=maxlen,value=0)\n",
        "x"
      ],
      "metadata": {
        "colab": {
          "base_uri": "https://localhost:8080/"
        },
        "id": "nkgNqC7-vYMQ",
        "outputId": "38744529-b855-40ea-93df-255e51abcbb5"
      },
      "execution_count": 27,
      "outputs": [
        {
          "output_type": "execute_result",
          "data": {
            "text/plain": [
              "array([[ 0,  0,  0,  0,  0,  0,  1,  4,  2],\n",
              "       [ 0,  3,  5,  6,  7,  8,  1,  9,  2],\n",
              "       [ 0,  0,  0,  0,  0,  0,  0, 10,  3]], dtype=int32)"
            ]
          },
          "metadata": {},
          "execution_count": 27
        }
      ]
    },
    {
      "cell_type": "markdown",
      "source": [
        "We see the padding proceeds the integer values, but we can also set padding to follow the integers through ```padding = \"post\"```.\n"
      ],
      "metadata": {
        "id": "QqVLVZVEvbjE"
      }
    },
    {
      "cell_type": "code",
      "source": [
        "maxlen=9\n",
        "x =pad_sequences(tokens, maxlen=maxlen,padding=\"post\")\n",
        "x"
      ],
      "metadata": {
        "colab": {
          "base_uri": "https://localhost:8080/"
        },
        "id": "7-rcWmzYvaJf",
        "outputId": "67598506-fad8-40b9-ae54-e8d9b5cbea96"
      },
      "execution_count": 28,
      "outputs": [
        {
          "output_type": "execute_result",
          "data": {
            "text/plain": [
              "array([[ 1,  4,  2,  0,  0,  0,  0,  0,  0],\n",
              "       [ 3,  5,  6,  7,  8,  1,  9,  2,  0],\n",
              "       [10,  3,  0,  0,  0,  0,  0,  0,  0]], dtype=int32)"
            ]
          },
          "metadata": {},
          "execution_count": 28
        }
      ]
    },
    {
      "cell_type": "markdown",
      "source": [
        "If we decrease the value for ```maxlen```, the function will ```truncate``` the sequences, that is, making sequences that are longer than `maxlen` shorter.\n"
      ],
      "metadata": {
        "id": "WMJJbIfOvf1B"
      }
    },
    {
      "cell_type": "code",
      "source": [
        "maxlen=5\n",
        "x =pad_sequences(tokens, maxlen=maxlen)\n",
        "x"
      ],
      "metadata": {
        "colab": {
          "base_uri": "https://localhost:8080/"
        },
        "id": "ib8G6C04vhoI",
        "outputId": "0b051011-1506-4e60-9593-a4709fd0c18e"
      },
      "execution_count": 29,
      "outputs": [
        {
          "output_type": "execute_result",
          "data": {
            "text/plain": [
              "array([[ 0,  0,  1,  4,  2],\n",
              "       [ 7,  8,  1,  9,  2],\n",
              "       [ 0,  0,  0, 10,  3]], dtype=int32)"
            ]
          },
          "metadata": {},
          "execution_count": 29
        }
      ]
    },
    {
      "cell_type": "markdown",
      "source": [
        "We see the function truncates the values from sequences longer than ```maxlen``` at the beginning of the sequence. We can also set ```truncating = \"post\"```to  truncate the values from the end.\n"
      ],
      "metadata": {
        "id": "HGF9pAAgvvfW"
      }
    },
    {
      "cell_type": "markdown",
      "source": [
        "## Sentiment Analysis\n"
      ],
      "metadata": {
        "id": "LibShU7_v0Jd"
      }
    },
    {
      "cell_type": "markdown",
      "source": [
        "Now that we have the sequence, , and embedding layers, we can use a neural network to classify our text data. Sentiment analysis in natural language processing is a technique used to determine opinions, appraisals, emotions, or attitudes towards a topic, person, or entity.\n",
        "\n",
        "Consider the IMDB dataset of 25,000 movie reviews from IMDB, labeled positive (y=0) and negative (y=1). In this dateset, the reviews have been pre-processed, and each review is encoded as a list of word indexes (integers). The words are indexed by overall frequency in the dataset so that for instance, the integer \"3\" encodes the 3rd most frequent word in the data. We will \"only consider the top 10,000 most common words, but eliminate the top 20 most common words for more on the dataset check out <a href=\"https://keras.io/api/datasets/imdb/?utm_medium=Exinfluencer&utm_source=Exinfluencer&utm_content=000026UJ&utm_term=10006555&utm_id=NA-SkillsNetwork-Channel-SkillsNetworkCoursesIBMDeveloperSkillsNetworkML311Coursera747-2022-01-01\">here </a>. We download the dataset:\n"
      ],
      "metadata": {
        "id": "dEZIryglv2Fu"
      }
    },
    {
      "cell_type": "code",
      "source": [
        "from keras.datasets import imdb"
      ],
      "metadata": {
        "id": "1q1wfdA5v4LB"
      },
      "execution_count": 30,
      "outputs": []
    },
    {
      "cell_type": "code",
      "source": [
        "max_features = 10000\n",
        "\n",
        "# change the default parameter of np to allow_pickle=True\n",
        "np.load.__defaults__=(None, True, True, 'ASCII')\n",
        "importlib.reload(np)\n",
        "\n",
        "(x_train, y_train), (x_test, y_test) = imdb.load_data(num_words=max_features )"
      ],
      "metadata": {
        "colab": {
          "base_uri": "https://localhost:8080/"
        },
        "id": "adn0rmjtv6QV",
        "outputId": "412992d0-8ebf-4e53-e040-5b14d0230b2f"
      },
      "execution_count": 31,
      "outputs": [
        {
          "output_type": "stream",
          "name": "stdout",
          "text": [
            "Downloading data from https://storage.googleapis.com/tensorflow/tf-keras-datasets/imdb.npz\n",
            "\u001b[1m17464789/17464789\u001b[0m \u001b[32m━━━━━━━━━━━━━━━━━━━━\u001b[0m\u001b[37m\u001b[0m \u001b[1m0s\u001b[0m 0us/step\n"
          ]
        }
      ]
    },
    {
      "cell_type": "markdown",
      "source": [
        "We print out the first three samples and we see the dataset has been tokenized:\n"
      ],
      "metadata": {
        "id": "Yhu-AfOXv9vk"
      }
    },
    {
      "cell_type": "code",
      "source": [
        "for i,x in enumerate(x_train[0:3]):\n",
        "    print(\"Sequence:\",i)\n",
        "    print(x)"
      ],
      "metadata": {
        "colab": {
          "base_uri": "https://localhost:8080/"
        },
        "id": "YJ881Ln0v9LV",
        "outputId": "98ccd7ef-82a8-4089-ccaa-7b91710238b9"
      },
      "execution_count": 32,
      "outputs": [
        {
          "output_type": "stream",
          "name": "stdout",
          "text": [
            "Sequence: 0\n",
            "[1, 14, 22, 16, 43, 530, 973, 1622, 1385, 65, 458, 4468, 66, 3941, 4, 173, 36, 256, 5, 25, 100, 43, 838, 112, 50, 670, 2, 9, 35, 480, 284, 5, 150, 4, 172, 112, 167, 2, 336, 385, 39, 4, 172, 4536, 1111, 17, 546, 38, 13, 447, 4, 192, 50, 16, 6, 147, 2025, 19, 14, 22, 4, 1920, 4613, 469, 4, 22, 71, 87, 12, 16, 43, 530, 38, 76, 15, 13, 1247, 4, 22, 17, 515, 17, 12, 16, 626, 18, 2, 5, 62, 386, 12, 8, 316, 8, 106, 5, 4, 2223, 5244, 16, 480, 66, 3785, 33, 4, 130, 12, 16, 38, 619, 5, 25, 124, 51, 36, 135, 48, 25, 1415, 33, 6, 22, 12, 215, 28, 77, 52, 5, 14, 407, 16, 82, 2, 8, 4, 107, 117, 5952, 15, 256, 4, 2, 7, 3766, 5, 723, 36, 71, 43, 530, 476, 26, 400, 317, 46, 7, 4, 2, 1029, 13, 104, 88, 4, 381, 15, 297, 98, 32, 2071, 56, 26, 141, 6, 194, 7486, 18, 4, 226, 22, 21, 134, 476, 26, 480, 5, 144, 30, 5535, 18, 51, 36, 28, 224, 92, 25, 104, 4, 226, 65, 16, 38, 1334, 88, 12, 16, 283, 5, 16, 4472, 113, 103, 32, 15, 16, 5345, 19, 178, 32]\n",
            "Sequence: 1\n",
            "[1, 194, 1153, 194, 8255, 78, 228, 5, 6, 1463, 4369, 5012, 134, 26, 4, 715, 8, 118, 1634, 14, 394, 20, 13, 119, 954, 189, 102, 5, 207, 110, 3103, 21, 14, 69, 188, 8, 30, 23, 7, 4, 249, 126, 93, 4, 114, 9, 2300, 1523, 5, 647, 4, 116, 9, 35, 8163, 4, 229, 9, 340, 1322, 4, 118, 9, 4, 130, 4901, 19, 4, 1002, 5, 89, 29, 952, 46, 37, 4, 455, 9, 45, 43, 38, 1543, 1905, 398, 4, 1649, 26, 6853, 5, 163, 11, 3215, 2, 4, 1153, 9, 194, 775, 7, 8255, 2, 349, 2637, 148, 605, 2, 8003, 15, 123, 125, 68, 2, 6853, 15, 349, 165, 4362, 98, 5, 4, 228, 9, 43, 2, 1157, 15, 299, 120, 5, 120, 174, 11, 220, 175, 136, 50, 9, 4373, 228, 8255, 5, 2, 656, 245, 2350, 5, 4, 9837, 131, 152, 491, 18, 2, 32, 7464, 1212, 14, 9, 6, 371, 78, 22, 625, 64, 1382, 9, 8, 168, 145, 23, 4, 1690, 15, 16, 4, 1355, 5, 28, 6, 52, 154, 462, 33, 89, 78, 285, 16, 145, 95]\n",
            "Sequence: 2\n",
            "[1, 14, 47, 8, 30, 31, 7, 4, 249, 108, 7, 4, 5974, 54, 61, 369, 13, 71, 149, 14, 22, 112, 4, 2401, 311, 12, 16, 3711, 33, 75, 43, 1829, 296, 4, 86, 320, 35, 534, 19, 263, 4821, 1301, 4, 1873, 33, 89, 78, 12, 66, 16, 4, 360, 7, 4, 58, 316, 334, 11, 4, 1716, 43, 645, 662, 8, 257, 85, 1200, 42, 1228, 2578, 83, 68, 3912, 15, 36, 165, 1539, 278, 36, 69, 2, 780, 8, 106, 14, 6905, 1338, 18, 6, 22, 12, 215, 28, 610, 40, 6, 87, 326, 23, 2300, 21, 23, 22, 12, 272, 40, 57, 31, 11, 4, 22, 47, 6, 2307, 51, 9, 170, 23, 595, 116, 595, 1352, 13, 191, 79, 638, 89, 2, 14, 9, 8, 106, 607, 624, 35, 534, 6, 227, 7, 129, 113]\n"
          ]
        }
      ]
    },
    {
      "cell_type": "markdown",
      "source": [
        "We can obtain a dictionary look-up table with the word and the integer that represents it:\n"
      ],
      "metadata": {
        "id": "9-zBVdWewQ3O"
      }
    },
    {
      "cell_type": "code",
      "source": [
        "word_index = imdb.get_word_index()"
      ],
      "metadata": {
        "colab": {
          "base_uri": "https://localhost:8080/"
        },
        "id": "jeR6TQLgwS1y",
        "outputId": "2dec3df4-e918-41d1-f7ae-c6f3e46d37e9"
      },
      "execution_count": 33,
      "outputs": [
        {
          "output_type": "stream",
          "name": "stdout",
          "text": [
            "Downloading data from https://storage.googleapis.com/tensorflow/tf-keras-datasets/imdb_word_index.json\n",
            "\u001b[1m1641221/1641221\u001b[0m \u001b[32m━━━━━━━━━━━━━━━━━━━━\u001b[0m\u001b[37m\u001b[0m \u001b[1m0s\u001b[0m 0us/step\n"
          ]
        }
      ]
    },
    {
      "cell_type": "markdown",
      "source": [
        "We invert the table so the key is the integer that represents the word, and the value is the word. We assign the new dictionary to the variable ```REVERSE_LOOKUP```:\n"
      ],
      "metadata": {
        "id": "W_ylg_-rwVZF"
      }
    },
    {
      "cell_type": "code",
      "source": [
        "REVERSE_LOOKUP={value:key for key, value in word_index.items()}"
      ],
      "metadata": {
        "id": "RmHM4_xixY6B"
      },
      "execution_count": 34,
      "outputs": []
    },
    {
      "cell_type": "markdown",
      "source": [
        "The following function will use ```REVERSE_LOOKUP``` to convert an input sequence x to the original review.\n"
      ],
      "metadata": {
        "id": "WO6JMAT7xbiA"
      }
    },
    {
      "cell_type": "code",
      "source": [
        "def get_review(x):\n",
        "     return' '.join([REVERSE_LOOKUP[index ] for index in x])"
      ],
      "metadata": {
        "id": "_2aF6taTxdCV"
      },
      "execution_count": 35,
      "outputs": []
    },
    {
      "cell_type": "markdown",
      "source": [
        "We can obtain the review for the first sample:\n"
      ],
      "metadata": {
        "id": "TnaIH1TKR0E6"
      }
    },
    {
      "cell_type": "code",
      "source": [
        "get_review(x_train[0])"
      ],
      "metadata": {
        "colab": {
          "base_uri": "https://localhost:8080/",
          "height": 139
        },
        "id": "LWfsHOA_R1zk",
        "outputId": "c2f80b94-aa36-4bd7-fcf9-094c8c8b0d34"
      },
      "execution_count": 36,
      "outputs": [
        {
          "output_type": "execute_result",
          "data": {
            "text/plain": [
              "\"the as you with out themselves powerful lets loves their becomes reaching had journalist of lot from anyone to have after out atmosphere never more room and it so heart shows to years of every never going and help moments or of every chest visual movie except her was several of enough more with is now current film as you of mine potentially unfortunately of you than him that with out themselves her get for was camp of you movie sometimes movie that with scary but and to story wonderful that in seeing in character to of 70s musicians with heart had shadows they of here that with her serious to have does when from why what have critics they is you that isn't one will very to as itself with other and in of seen over landed for anyone of and br show's to whether from than out themselves history he name half some br of and odd was two most of mean for 1 any an boat she he should is thought frog but of script you not while history he heart to real at barrel but when from one bit then have two of script their with her nobody most that with wasn't to with armed acting watch an for with heartfelt film want an\""
            ],
            "application/vnd.google.colaboratory.intrinsic+json": {
              "type": "string"
            }
          },
          "metadata": {},
          "execution_count": 36
        }
      ]
    },
    {
      "cell_type": "markdown",
      "source": [
        "Similarly, we obtain the review for the second sample:\n"
      ],
      "metadata": {
        "id": "lkj8dCXnR4Ci"
      }
    },
    {
      "cell_type": "code",
      "source": [
        "get_review(x_train[1])"
      ],
      "metadata": {
        "colab": {
          "base_uri": "https://localhost:8080/",
          "height": 139
        },
        "id": "W4qg_W7sR5e_",
        "outputId": "0c8f304c-e085-4df6-b98c-6a6690c7b622"
      },
      "execution_count": 37,
      "outputs": [
        {
          "output_type": "execute_result",
          "data": {
            "text/plain": [
              "\"the thought solid thought senator do making to is spot nomination assumed while he of jack in where picked as getting on was did hands fact characters to always life thrillers not as me can't in at are br of sure your way of little it strongly random to view of love it so principles of guy it used producer of where it of here icon film of outside to don't all unique some like of direction it if out her imagination below keep of queen he diverse to makes this stretch and of solid it thought begins br senator and budget worthwhile though ok and awaiting for ever better were and diverse for budget look kicked any to of making it out and follows for effects show to show cast this family us scenes more it severe making senator to and finds tv tend to of emerged these thing wants but and an beckinsale cult as it is video do you david see scenery it in few those are of ship for with of wild to one is very work dark they don't do dvd with those them\""
            ],
            "application/vnd.google.colaboratory.intrinsic+json": {
              "type": "string"
            }
          },
          "metadata": {},
          "execution_count": 37
        }
      ]
    },
    {
      "cell_type": "markdown",
      "source": [
        "Each sample is of a different length; for example, we can print the length of the first three samples:\n"
      ],
      "metadata": {
        "id": "-Yvc_PsER7cP"
      }
    },
    {
      "cell_type": "code",
      "source": [
        "for i,x in enumerate(x_train[0:3]):\n",
        "    print(\"length {} of sample {}:\".format(i,len(x)))\n"
      ],
      "metadata": {
        "colab": {
          "base_uri": "https://localhost:8080/"
        },
        "id": "soRg9GEKR97X",
        "outputId": "182202d4-d5d2-4ddf-9d8d-4dc5f2058cac"
      },
      "execution_count": 38,
      "outputs": [
        {
          "output_type": "stream",
          "name": "stdout",
          "text": [
            "length 0 of sample 218:\n",
            "length 1 of sample 189:\n",
            "length 2 of sample 141:\n"
          ]
        }
      ]
    },
    {
      "cell_type": "markdown",
      "source": [
        "As a result, we need to pad all the sequences using ```pad_sequences```:\n"
      ],
      "metadata": {
        "id": "f4oNTEWcR_7e"
      }
    },
    {
      "cell_type": "code",
      "source": [
        "maxlen=20\n",
        "x_train =pad_sequences(x_train, maxlen=maxlen)\n",
        "x_test =pad_sequences(x_test, maxlen=maxlen)\n"
      ],
      "metadata": {
        "id": "U4glw7sBSByN"
      },
      "execution_count": 39,
      "outputs": []
    },
    {
      "cell_type": "code",
      "source": [
        "x_test.shape"
      ],
      "metadata": {
        "colab": {
          "base_uri": "https://localhost:8080/"
        },
        "id": "VMvzzZ9MSDut",
        "outputId": "5a22dee5-9a50-400b-d2f9-762e7166e642"
      },
      "execution_count": 40,
      "outputs": [
        {
          "output_type": "execute_result",
          "data": {
            "text/plain": [
              "(25000, 20)"
            ]
          },
          "metadata": {},
          "execution_count": 40
        }
      ]
    },
    {
      "cell_type": "markdown",
      "source": [
        "Now we can create the embedding layer. We know the number of words is ```max_features=10000``` and therefore ```input_dim=10000```. The dimension of the output is a parameter that we set. Let's set ```output_dim=8``` and ```input_length=1``` for now.\n",
        "\n",
        "We also need to add a flattening layer using ```Flatten()```, which adds an extra dimension and will reshape the input as ```(batch, 1)```.\n"
      ],
      "metadata": {
        "id": "UcasrfpWSFkG"
      }
    },
    {
      "cell_type": "code",
      "source": [
        "model = Sequential()\n",
        "model.add(Embedding(10000, 8, input_length=20))\n",
        "model.add(Flatten())\n"
      ],
      "metadata": {
        "id": "TT1K64JGSHV9"
      },
      "execution_count": 41,
      "outputs": []
    },
    {
      "cell_type": "markdown",
      "source": [
        "We can now add a fully connected layer with `units=1` for classification:\n"
      ],
      "metadata": {
        "id": "pQm-9fMESJSr"
      }
    },
    {
      "cell_type": "code",
      "source": [
        "model.add(Dense(1, activation='sigmoid'))\n",
        "model.compile(optimizer='rmsprop', loss='binary_crossentropy', metrics=['acc'])\n",
        "model.summary()\n"
      ],
      "metadata": {
        "colab": {
          "base_uri": "https://localhost:8080/",
          "height": 225
        },
        "id": "F2D_M11jSOK6",
        "outputId": "6513dd3d-0180-44fd-8c88-f842a62ec127"
      },
      "execution_count": 42,
      "outputs": [
        {
          "output_type": "display_data",
          "data": {
            "text/plain": [
              "\u001b[1mModel: \"sequential_2\"\u001b[0m\n"
            ],
            "text/html": [
              "<pre style=\"white-space:pre;overflow-x:auto;line-height:normal;font-family:Menlo,'DejaVu Sans Mono',consolas,'Courier New',monospace\"><span style=\"font-weight: bold\">Model: \"sequential_2\"</span>\n",
              "</pre>\n"
            ]
          },
          "metadata": {}
        },
        {
          "output_type": "display_data",
          "data": {
            "text/plain": [
              "┏━━━━━━━━━━━━━━━━━━━━━━━━━━━━━━━━━┳━━━━━━━━━━━━━━━━━━━━━━━━┳━━━━━━━━━━━━━━━┓\n",
              "┃\u001b[1m \u001b[0m\u001b[1mLayer (type)                   \u001b[0m\u001b[1m \u001b[0m┃\u001b[1m \u001b[0m\u001b[1mOutput Shape          \u001b[0m\u001b[1m \u001b[0m┃\u001b[1m \u001b[0m\u001b[1m      Param #\u001b[0m\u001b[1m \u001b[0m┃\n",
              "┡━━━━━━━━━━━━━━━━━━━━━━━━━━━━━━━━━╇━━━━━━━━━━━━━━━━━━━━━━━━╇━━━━━━━━━━━━━━━┩\n",
              "│ embedding_2 (\u001b[38;5;33mEmbedding\u001b[0m)         │ ?                      │   \u001b[38;5;34m0\u001b[0m (unbuilt) │\n",
              "├─────────────────────────────────┼────────────────────────┼───────────────┤\n",
              "│ flatten (\u001b[38;5;33mFlatten\u001b[0m)               │ ?                      │   \u001b[38;5;34m0\u001b[0m (unbuilt) │\n",
              "├─────────────────────────────────┼────────────────────────┼───────────────┤\n",
              "│ dense (\u001b[38;5;33mDense\u001b[0m)                   │ ?                      │   \u001b[38;5;34m0\u001b[0m (unbuilt) │\n",
              "└─────────────────────────────────┴────────────────────────┴───────────────┘\n"
            ],
            "text/html": [
              "<pre style=\"white-space:pre;overflow-x:auto;line-height:normal;font-family:Menlo,'DejaVu Sans Mono',consolas,'Courier New',monospace\">┏━━━━━━━━━━━━━━━━━━━━━━━━━━━━━━━━━┳━━━━━━━━━━━━━━━━━━━━━━━━┳━━━━━━━━━━━━━━━┓\n",
              "┃<span style=\"font-weight: bold\"> Layer (type)                    </span>┃<span style=\"font-weight: bold\"> Output Shape           </span>┃<span style=\"font-weight: bold\">       Param # </span>┃\n",
              "┡━━━━━━━━━━━━━━━━━━━━━━━━━━━━━━━━━╇━━━━━━━━━━━━━━━━━━━━━━━━╇━━━━━━━━━━━━━━━┩\n",
              "│ embedding_2 (<span style=\"color: #0087ff; text-decoration-color: #0087ff\">Embedding</span>)         │ ?                      │   <span style=\"color: #00af00; text-decoration-color: #00af00\">0</span> (unbuilt) │\n",
              "├─────────────────────────────────┼────────────────────────┼───────────────┤\n",
              "│ flatten (<span style=\"color: #0087ff; text-decoration-color: #0087ff\">Flatten</span>)               │ ?                      │   <span style=\"color: #00af00; text-decoration-color: #00af00\">0</span> (unbuilt) │\n",
              "├─────────────────────────────────┼────────────────────────┼───────────────┤\n",
              "│ dense (<span style=\"color: #0087ff; text-decoration-color: #0087ff\">Dense</span>)                   │ ?                      │   <span style=\"color: #00af00; text-decoration-color: #00af00\">0</span> (unbuilt) │\n",
              "└─────────────────────────────────┴────────────────────────┴───────────────┘\n",
              "</pre>\n"
            ]
          },
          "metadata": {}
        },
        {
          "output_type": "display_data",
          "data": {
            "text/plain": [
              "\u001b[1m Total params: \u001b[0m\u001b[38;5;34m0\u001b[0m (0.00 B)\n"
            ],
            "text/html": [
              "<pre style=\"white-space:pre;overflow-x:auto;line-height:normal;font-family:Menlo,'DejaVu Sans Mono',consolas,'Courier New',monospace\"><span style=\"font-weight: bold\"> Total params: </span><span style=\"color: #00af00; text-decoration-color: #00af00\">0</span> (0.00 B)\n",
              "</pre>\n"
            ]
          },
          "metadata": {}
        },
        {
          "output_type": "display_data",
          "data": {
            "text/plain": [
              "\u001b[1m Trainable params: \u001b[0m\u001b[38;5;34m0\u001b[0m (0.00 B)\n"
            ],
            "text/html": [
              "<pre style=\"white-space:pre;overflow-x:auto;line-height:normal;font-family:Menlo,'DejaVu Sans Mono',consolas,'Courier New',monospace\"><span style=\"font-weight: bold\"> Trainable params: </span><span style=\"color: #00af00; text-decoration-color: #00af00\">0</span> (0.00 B)\n",
              "</pre>\n"
            ]
          },
          "metadata": {}
        },
        {
          "output_type": "display_data",
          "data": {
            "text/plain": [
              "\u001b[1m Non-trainable params: \u001b[0m\u001b[38;5;34m0\u001b[0m (0.00 B)\n"
            ],
            "text/html": [
              "<pre style=\"white-space:pre;overflow-x:auto;line-height:normal;font-family:Menlo,'DejaVu Sans Mono',consolas,'Courier New',monospace\"><span style=\"font-weight: bold\"> Non-trainable params: </span><span style=\"color: #00af00; text-decoration-color: #00af00\">0</span> (0.00 B)\n",
              "</pre>\n"
            ]
          },
          "metadata": {}
        }
      ]
    },
    {
      "cell_type": "markdown",
      "source": [
        "Let's fit the model:\n"
      ],
      "metadata": {
        "id": "KxBUNkc9SQGE"
      }
    },
    {
      "cell_type": "code",
      "source": [
        "history = model.fit(x_train, y_train, epochs=10,batch_size=30,validation_split=0.2)"
      ],
      "metadata": {
        "colab": {
          "base_uri": "https://localhost:8080/"
        },
        "id": "bgiufeZCSWge",
        "outputId": "2d626910-1077-4cb8-ad53-7fbf40b18edb"
      },
      "execution_count": 43,
      "outputs": [
        {
          "output_type": "stream",
          "name": "stdout",
          "text": [
            "Epoch 1/10\n",
            "\u001b[1m667/667\u001b[0m \u001b[32m━━━━━━━━━━━━━━━━━━━━\u001b[0m\u001b[37m\u001b[0m \u001b[1m4s\u001b[0m 4ms/step - acc: 0.5681 - loss: 0.6852 - val_acc: 0.7022 - val_loss: 0.6113\n",
            "Epoch 2/10\n",
            "\u001b[1m667/667\u001b[0m \u001b[32m━━━━━━━━━━━━━━━━━━━━\u001b[0m\u001b[37m\u001b[0m \u001b[1m3s\u001b[0m 4ms/step - acc: 0.7381 - loss: 0.5650 - val_acc: 0.7354 - val_loss: 0.5244\n",
            "Epoch 3/10\n",
            "\u001b[1m667/667\u001b[0m \u001b[32m━━━━━━━━━━━━━━━━━━━━\u001b[0m\u001b[37m\u001b[0m \u001b[1m3s\u001b[0m 4ms/step - acc: 0.7780 - loss: 0.4735 - val_acc: 0.7466 - val_loss: 0.5032\n",
            "Epoch 4/10\n",
            "\u001b[1m667/667\u001b[0m \u001b[32m━━━━━━━━━━━━━━━━━━━━\u001b[0m\u001b[37m\u001b[0m \u001b[1m5s\u001b[0m 7ms/step - acc: 0.8033 - loss: 0.4322 - val_acc: 0.7488 - val_loss: 0.4991\n",
            "Epoch 5/10\n",
            "\u001b[1m667/667\u001b[0m \u001b[32m━━━━━━━━━━━━━━━━━━━━\u001b[0m\u001b[37m\u001b[0m \u001b[1m3s\u001b[0m 4ms/step - acc: 0.8172 - loss: 0.4044 - val_acc: 0.7512 - val_loss: 0.5008\n",
            "Epoch 6/10\n",
            "\u001b[1m667/667\u001b[0m \u001b[32m━━━━━━━━━━━━━━━━━━━━\u001b[0m\u001b[37m\u001b[0m \u001b[1m3s\u001b[0m 5ms/step - acc: 0.8308 - loss: 0.3813 - val_acc: 0.7518 - val_loss: 0.5054\n",
            "Epoch 7/10\n",
            "\u001b[1m667/667\u001b[0m \u001b[32m━━━━━━━━━━━━━━━━━━━━\u001b[0m\u001b[37m\u001b[0m \u001b[1m3s\u001b[0m 4ms/step - acc: 0.8443 - loss: 0.3605 - val_acc: 0.7526 - val_loss: 0.5116\n",
            "Epoch 8/10\n",
            "\u001b[1m667/667\u001b[0m \u001b[32m━━━━━━━━━━━━━━━━━━━━\u001b[0m\u001b[37m\u001b[0m \u001b[1m4s\u001b[0m 6ms/step - acc: 0.8543 - loss: 0.3411 - val_acc: 0.7484 - val_loss: 0.5191\n",
            "Epoch 9/10\n",
            "\u001b[1m667/667\u001b[0m \u001b[32m━━━━━━━━━━━━━━━━━━━━\u001b[0m\u001b[37m\u001b[0m \u001b[1m2s\u001b[0m 4ms/step - acc: 0.8637 - loss: 0.3228 - val_acc: 0.7444 - val_loss: 0.5275\n",
            "Epoch 10/10\n",
            "\u001b[1m667/667\u001b[0m \u001b[32m━━━━━━━━━━━━━━━━━━━━\u001b[0m\u001b[37m\u001b[0m \u001b[1m3s\u001b[0m 4ms/step - acc: 0.8737 - loss: 0.3054 - val_acc: 0.7436 - val_loss: 0.5368\n"
          ]
        }
      ]
    },
    {
      "cell_type": "markdown",
      "source": [
        "We can plot the training history:\n"
      ],
      "metadata": {
        "id": "oPt-7NXwSZbS"
      }
    },
    {
      "cell_type": "code",
      "source": [
        "display_metrics(history)"
      ],
      "metadata": {
        "colab": {
          "base_uri": "https://localhost:8080/",
          "height": 545
        },
        "id": "MWp7_vPwSbXq",
        "outputId": "0b8697c9-8b76-41ae-e4ee-61688588af72"
      },
      "execution_count": 44,
      "outputs": [
        {
          "output_type": "display_data",
          "data": {
            "text/plain": [
              "<Figure size 1200x600 with 2 Axes>"
            ],
            "image/png": "[encoded data removed]"
          },
          "metadata": {}
        }
      ]
    },
    {
      "cell_type": "markdown",
      "source": [
        "The output of the model is a probability as it ranges from 0 to 1, so we can use this as a proxy for the Rotten Tomatoes score:\n"
      ],
      "metadata": {
        "id": "Os2saHTpS5Ae"
      }
    },
    {
      "cell_type": "code",
      "source": [
        "p_yx=model.predict(x_test[0:10])"
      ],
      "metadata": {
        "colab": {
          "base_uri": "https://localhost:8080/"
        },
        "id": "T5ssT_d3S6np",
        "outputId": "3b7720bd-5bb4-4dd4-c44a-f4e74dcaa1bb"
      },
      "execution_count": 45,
      "outputs": [
        {
          "output_type": "stream",
          "name": "stdout",
          "text": [
            "\u001b[1m1/1\u001b[0m \u001b[32m━━━━━━━━━━━━━━━━━━━━\u001b[0m\u001b[37m\u001b[0m \u001b[1m0s\u001b[0m 106ms/step\n"
          ]
        }
      ]
    },
    {
      "cell_type": "markdown",
      "source": [
        "We can obtain the the rating using the helper function ```rotten_tomato_score``` which maps a probability to a prediction:\n"
      ],
      "metadata": {
        "id": "MahLQFIFS898"
      }
    },
    {
      "cell_type": "code",
      "source": [
        "rotten_tomato_score(p_yx)"
      ],
      "metadata": {
        "colab": {
          "base_uri": "https://localhost:8080/"
        },
        "id": "m1BaSw9aS-0H",
        "outputId": "3fd661c2-c95c-4451-b43c-32142db00954"
      },
      "execution_count": 46,
      "outputs": [
        {
          "output_type": "execute_result",
          "data": {
            "text/plain": [
              "['rotten',\n",
              " 'fresh',\n",
              " 'rotten',\n",
              " 'fresh',\n",
              " 'fresh',\n",
              " 'rotten',\n",
              " 'rotten',\n",
              " 'rotten',\n",
              " 'rotten',\n",
              " 'rotten']"
            ]
          },
          "metadata": {},
          "execution_count": 46
        }
      ]
    },
    {
      "cell_type": "markdown",
      "source": [
        "### Visualizing the embedding  weights\n"
      ],
      "metadata": {
        "id": "jOUenH47TA-Y"
      }
    },
    {
      "cell_type": "markdown",
      "source": [
        "The weights in the embedding layer contain correlations between words. Let's obtain the embedding weights:\n"
      ],
      "metadata": {
        "id": "Qoqltr78TEEW"
      }
    },
    {
      "cell_type": "code",
      "source": [
        "weights=model.layers[0].get_weights()[0]"
      ],
      "metadata": {
        "id": "X8eQt5GGTGCG"
      },
      "execution_count": 47,
      "outputs": []
    },
    {
      "cell_type": "markdown",
      "source": [
        "There are 10,000 words so there are 10,000 different parameter vectors, each has 8 dimensions:\n"
      ],
      "metadata": {
        "id": "n5aABZ9JTIdV"
      }
    },
    {
      "cell_type": "code",
      "source": [
        "weights.shape"
      ],
      "metadata": {
        "colab": {
          "base_uri": "https://localhost:8080/"
        },
        "id": "PM42dFa9TKsO",
        "outputId": "cbca89b7-9674-46ba-c2fd-f7e37e464a74"
      },
      "execution_count": 48,
      "outputs": [
        {
          "output_type": "execute_result",
          "data": {
            "text/plain": [
              "(10000, 8)"
            ]
          },
          "metadata": {},
          "execution_count": 48
        }
      ]
    },
    {
      "cell_type": "markdown",
      "source": [
        "We can't visualize the vector as it's 8-dimensional, but we can use **T-distributed Stochastic Neighbor Embedding (TSNE)** to reduce the dimension to two for visualizing the embeddings on a 2D plot:\n"
      ],
      "metadata": {
        "id": "hzXBz-fRTPkh"
      }
    },
    {
      "cell_type": "code",
      "source": [
        "from sklearn.manifold import TSNE\n",
        "tsne = TSNE(n_components=2)\n",
        "X_embedded = tsne.fit_transform(weights)"
      ],
      "metadata": {
        "id": "1jCwqVoaTRaO"
      },
      "execution_count": 49,
      "outputs": []
    },
    {
      "cell_type": "markdown",
      "source": [
        "Now that the embeddings are transformed let's use the helper function ```plot_embedding``` to visualize them. The starting word index is ```start```, and ```stop``` is the index of the last word; ```sample``` is the number of samples between samples.\n"
      ],
      "metadata": {
        "id": "34vXobv4TTZh"
      }
    },
    {
      "cell_type": "code",
      "source": [
        "start=1\n",
        "stop=600\n",
        "sample=10\n",
        "plot_embedding(X_embedded,start,stop,sample)\n"
      ],
      "metadata": {
        "colab": {
          "base_uri": "https://localhost:8080/",
          "height": 430
        },
        "id": "d89VXtyhTW96",
        "outputId": "d11a9818-87f2-4713-b1a0-75e9540f7296"
      },
      "execution_count": 50,
      "outputs": [
        {
          "output_type": "display_data",
          "data": {
            "text/plain": [
              "<Figure size 640x480 with 1 Axes>"
            ],
            "image/png": "[encoded data removed]"
          },
          "metadata": {}
        }
      ]
    },
    {
      "cell_type": "markdown",
      "source": [
        "We see words like \"war\", \"evil\", and \"killer\" are clustered in the lower-right quadrant.\n"
      ],
      "metadata": {
        "id": "dmsQeEHGTY-U"
      }
    },
    {
      "cell_type": "code",
      "source": [
        "start=1\n",
        "stop=100\n",
        "sample=1\n",
        "plot_embedding(X_embedded,start,stop,sample)"
      ],
      "metadata": {
        "colab": {
          "base_uri": "https://localhost:8080/",
          "height": 430
        },
        "id": "Cn41As0STavm",
        "outputId": "f7dd9b51-3916-4d46-f957-7fb9445a55d4"
      },
      "execution_count": 51,
      "outputs": [
        {
          "output_type": "display_data",
          "data": {
            "text/plain": [
              "<Figure size 640x480 with 1 Axes>"
            ],
            "image/png": "[encoded data removed]"
          },
          "metadata": {}
        }
      ]
    },
    {
      "cell_type": "markdown",
      "source": [
        "### Test 1\n",
        "\n",
        "Recreate the model above but add a dense layer with 500 neurons (using relu activation), a dense layer with 250 neurons (using relu activation), and a final layer for classification, then use the function ```display_metrics``` to plot the results.\n"
      ],
      "metadata": {
        "id": "c4XIrierTcy0"
      }
    },
    {
      "cell_type": "code",
      "source": [
        "model = Sequential()\n",
        "model.add(Embedding(10000, 8, input_length=20))\n",
        "model.add(Flatten())\n",
        "\n",
        "model.add(Dense(500, activation='relu'))\n",
        "model.add(Dense(250, activation='relu'))\n",
        "model.add(Dense(1, activation='sigmoid'))\n",
        "model.compile(optimizer='rmsprop', loss='binary_crossentropy', metrics=['acc'])\n",
        "history = model.fit(x_train, y_train, epochs=10,batch_size=30,validation_split=0.2)\n",
        "\n",
        "display_metrics(history)"
      ],
      "metadata": {
        "colab": {
          "base_uri": "https://localhost:8080/",
          "height": 892
        },
        "id": "xpoUIjMXThqy",
        "outputId": "9cdb4fbd-a17d-4d9c-ed29-da4391e3e15c"
      },
      "execution_count": 52,
      "outputs": [
        {
          "output_type": "stream",
          "name": "stdout",
          "text": [
            "Epoch 1/10\n",
            "\u001b[1m667/667\u001b[0m \u001b[32m━━━━━━━━━━━━━━━━━━━━\u001b[0m\u001b[37m\u001b[0m \u001b[1m9s\u001b[0m 11ms/step - acc: 0.5881 - loss: 0.6432 - val_acc: 0.7342 - val_loss: 0.5295\n",
            "Epoch 2/10\n",
            "\u001b[1m667/667\u001b[0m \u001b[32m━━━━━━━━━━━━━━━━━━━━\u001b[0m\u001b[37m\u001b[0m \u001b[1m6s\u001b[0m 9ms/step - acc: 0.7804 - loss: 0.4602 - val_acc: 0.7460 - val_loss: 0.5181\n",
            "Epoch 3/10\n",
            "\u001b[1m667/667\u001b[0m \u001b[32m━━━━━━━━━━━━━━━━━━━━\u001b[0m\u001b[37m\u001b[0m \u001b[1m7s\u001b[0m 11ms/step - acc: 0.8263 - loss: 0.3925 - val_acc: 0.7434 - val_loss: 0.5410\n",
            "Epoch 4/10\n",
            "\u001b[1m667/667\u001b[0m \u001b[32m━━━━━━━━━━━━━━━━━━━━\u001b[0m\u001b[37m\u001b[0m \u001b[1m7s\u001b[0m 10ms/step - acc: 0.8620 - loss: 0.3299 - val_acc: 0.7326 - val_loss: 0.5884\n",
            "Epoch 5/10\n",
            "\u001b[1m667/667\u001b[0m \u001b[32m━━━━━━━━━━━━━━━━━━━━\u001b[0m\u001b[37m\u001b[0m \u001b[1m6s\u001b[0m 9ms/step - acc: 0.8947 - loss: 0.2674 - val_acc: 0.7222 - val_loss: 0.6552\n",
            "Epoch 6/10\n",
            "\u001b[1m667/667\u001b[0m \u001b[32m━━━━━━━━━━━━━━━━━━━━\u001b[0m\u001b[37m\u001b[0m \u001b[1m7s\u001b[0m 10ms/step - acc: 0.9227 - loss: 0.2085 - val_acc: 0.7120 - val_loss: 0.7431\n",
            "Epoch 7/10\n",
            "\u001b[1m667/667\u001b[0m \u001b[32m━━━━━━━━━━━━━━━━━━━━\u001b[0m\u001b[37m\u001b[0m \u001b[1m6s\u001b[0m 10ms/step - acc: 0.9442 - loss: 0.1552 - val_acc: 0.7056 - val_loss: 0.8677\n",
            "Epoch 8/10\n",
            "\u001b[1m667/667\u001b[0m \u001b[32m━━━━━━━━━━━━━━━━━━━━\u001b[0m\u001b[37m\u001b[0m \u001b[1m6s\u001b[0m 8ms/step - acc: 0.9635 - loss: 0.1083 - val_acc: 0.6990 - val_loss: 1.0570\n",
            "Epoch 9/10\n",
            "\u001b[1m667/667\u001b[0m \u001b[32m━━━━━━━━━━━━━━━━━━━━\u001b[0m\u001b[37m\u001b[0m \u001b[1m7s\u001b[0m 10ms/step - acc: 0.9782 - loss: 0.0689 - val_acc: 0.6932 - val_loss: 1.3167\n",
            "Epoch 10/10\n",
            "\u001b[1m667/667\u001b[0m \u001b[32m━━━━━━━━━━━━━━━━━━━━\u001b[0m\u001b[37m\u001b[0m \u001b[1m6s\u001b[0m 8ms/step - acc: 0.9881 - loss: 0.0370 - val_acc: 0.6944 - val_loss: 1.6383\n"
          ]
        },
        {
          "output_type": "display_data",
          "data": {
            "text/plain": [
              "<Figure size 1200x600 with 2 Axes>"
            ],
            "image/png": "[encoded data removed]"
          },
          "metadata": {}
        }
      ]
    },
    {
      "cell_type": "markdown",
      "source": [
        "### Test 2 - Question: Does this model perform better then the last model? Why or why not?\n"
      ],
      "metadata": {
        "id": "GamYKw1mTlQw"
      }
    },
    {
      "cell_type": "markdown",
      "source": [
        "\n",
        "The second model suffers from over Overfitting"
      ],
      "metadata": {
        "id": "qAQNIWdqTpnq"
      }
    },
    {
      "cell_type": "markdown",
      "source": [
        "### Test 3 - Introduce L2 and dropout regulation to your model (there are many solutions, one is given here)\n"
      ],
      "metadata": {
        "id": "LEtECqL-TtpR"
      }
    },
    {
      "cell_type": "code",
      "source": [
        "model = Sequential()\n",
        "model.add(Embedding(max_features, 8, input_length=maxlen))\n",
        "model.add(Flatten())\n",
        "model.add(Dense(500, kernel_initializer='normal', activation='relu',kernel_regularizer=regularizers.L2(l2=5e-3)))\n",
        "model.add(Dropout(.4))\n",
        "\n",
        "model.add(Dense(250, kernel_initializer='normal', activation='relu',kernel_regularizer=regularizers.L2(l2=5e-3)))\n",
        "model.add(Dropout(.3))\n",
        "model.add(Dense(1, activation='sigmoid'))\n",
        "model.compile(optimizer='rmsprop', loss='binary_crossentropy', metrics=['acc'])\n",
        "model.summary()\n",
        "\n",
        "history = model.fit(x_train, y_train, epochs=10,batch_size=64, validation_split=0.2)\n",
        "display_metrics(history)"
      ],
      "metadata": {
        "colab": {
          "base_uri": "https://localhost:8080/",
          "height": 1000
        },
        "id": "QVm4IHeeTx9w",
        "outputId": "17a93101-fe67-42f2-8b0c-43fd6c6c7097"
      },
      "execution_count": 53,
      "outputs": [
        {
          "output_type": "display_data",
          "data": {
            "text/plain": [
              "\u001b[1mModel: \"sequential_4\"\u001b[0m\n"
            ],
            "text/html": [
              "<pre style=\"white-space:pre;overflow-x:auto;line-height:normal;font-family:Menlo,'DejaVu Sans Mono',consolas,'Courier New',monospace\"><span style=\"font-weight: bold\">Model: \"sequential_4\"</span>\n",
              "</pre>\n"
            ]
          },
          "metadata": {}
        },
        {
          "output_type": "display_data",
          "data": {
            "text/plain": [
              "┏━━━━━━━━━━━━━━━━━━━━━━━━━━━━━━━━━┳━━━━━━━━━━━━━━━━━━━━━━━━┳━━━━━━━━━━━━━━━┓\n",
              "┃\u001b[1m \u001b[0m\u001b[1mLayer (type)                   \u001b[0m\u001b[1m \u001b[0m┃\u001b[1m \u001b[0m\u001b[1mOutput Shape          \u001b[0m\u001b[1m \u001b[0m┃\u001b[1m \u001b[0m\u001b[1m      Param #\u001b[0m\u001b[1m \u001b[0m┃\n",
              "┡━━━━━━━━━━━━━━━━━━━━━━━━━━━━━━━━━╇━━━━━━━━━━━━━━━━━━━━━━━━╇━━━━━━━━━━━━━━━┩\n",
              "│ embedding_4 (\u001b[38;5;33mEmbedding\u001b[0m)         │ ?                      │   \u001b[38;5;34m0\u001b[0m (unbuilt) │\n",
              "├─────────────────────────────────┼────────────────────────┼───────────────┤\n",
              "│ flatten_2 (\u001b[38;5;33mFlatten\u001b[0m)             │ ?                      │   \u001b[38;5;34m0\u001b[0m (unbuilt) │\n",
              "├─────────────────────────────────┼────────────────────────┼───────────────┤\n",
              "│ dense_4 (\u001b[38;5;33mDense\u001b[0m)                 │ ?                      │   \u001b[38;5;34m0\u001b[0m (unbuilt) │\n",
              "├─────────────────────────────────┼────────────────────────┼───────────────┤\n",
              "│ dropout (\u001b[38;5;33mDropout\u001b[0m)               │ ?                      │             \u001b[38;5;34m0\u001b[0m │\n",
              "├─────────────────────────────────┼────────────────────────┼───────────────┤\n",
              "│ dense_5 (\u001b[38;5;33mDense\u001b[0m)                 │ ?                      │   \u001b[38;5;34m0\u001b[0m (unbuilt) │\n",
              "├─────────────────────────────────┼────────────────────────┼───────────────┤\n",
              "│ dropout_1 (\u001b[38;5;33mDropout\u001b[0m)             │ ?                      │             \u001b[38;5;34m0\u001b[0m │\n",
              "├─────────────────────────────────┼────────────────────────┼───────────────┤\n",
              "│ dense_6 (\u001b[38;5;33mDense\u001b[0m)                 │ ?                      │   \u001b[38;5;34m0\u001b[0m (unbuilt) │\n",
              "└─────────────────────────────────┴────────────────────────┴───────────────┘\n"
            ],
            "text/html": [
              "<pre style=\"white-space:pre;overflow-x:auto;line-height:normal;font-family:Menlo,'DejaVu Sans Mono',consolas,'Courier New',monospace\">┏━━━━━━━━━━━━━━━━━━━━━━━━━━━━━━━━━┳━━━━━━━━━━━━━━━━━━━━━━━━┳━━━━━━━━━━━━━━━┓\n",
              "┃<span style=\"font-weight: bold\"> Layer (type)                    </span>┃<span style=\"font-weight: bold\"> Output Shape           </span>┃<span style=\"font-weight: bold\">       Param # </span>┃\n",
              "┡━━━━━━━━━━━━━━━━━━━━━━━━━━━━━━━━━╇━━━━━━━━━━━━━━━━━━━━━━━━╇━━━━━━━━━━━━━━━┩\n",
              "│ embedding_4 (<span style=\"color: #0087ff; text-decoration-color: #0087ff\">Embedding</span>)         │ ?                      │   <span style=\"color: #00af00; text-decoration-color: #00af00\">0</span> (unbuilt) │\n",
              "├─────────────────────────────────┼────────────────────────┼───────────────┤\n",
              "│ flatten_2 (<span style=\"color: #0087ff; text-decoration-color: #0087ff\">Flatten</span>)             │ ?                      │   <span style=\"color: #00af00; text-decoration-color: #00af00\">0</span> (unbuilt) │\n",
              "├─────────────────────────────────┼────────────────────────┼───────────────┤\n",
              "│ dense_4 (<span style=\"color: #0087ff; text-decoration-color: #0087ff\">Dense</span>)                 │ ?                      │   <span style=\"color: #00af00; text-decoration-color: #00af00\">0</span> (unbuilt) │\n",
              "├─────────────────────────────────┼────────────────────────┼───────────────┤\n",
              "│ dropout (<span style=\"color: #0087ff; text-decoration-color: #0087ff\">Dropout</span>)               │ ?                      │             <span style=\"color: #00af00; text-decoration-color: #00af00\">0</span> │\n",
              "├─────────────────────────────────┼────────────────────────┼───────────────┤\n",
              "│ dense_5 (<span style=\"color: #0087ff; text-decoration-color: #0087ff\">Dense</span>)                 │ ?                      │   <span style=\"color: #00af00; text-decoration-color: #00af00\">0</span> (unbuilt) │\n",
              "├─────────────────────────────────┼────────────────────────┼───────────────┤\n",
              "│ dropout_1 (<span style=\"color: #0087ff; text-decoration-color: #0087ff\">Dropout</span>)             │ ?                      │             <span style=\"color: #00af00; text-decoration-color: #00af00\">0</span> │\n",
              "├─────────────────────────────────┼────────────────────────┼───────────────┤\n",
              "│ dense_6 (<span style=\"color: #0087ff; text-decoration-color: #0087ff\">Dense</span>)                 │ ?                      │   <span style=\"color: #00af00; text-decoration-color: #00af00\">0</span> (unbuilt) │\n",
              "└─────────────────────────────────┴────────────────────────┴───────────────┘\n",
              "</pre>\n"
            ]
          },
          "metadata": {}
        },
        {
          "output_type": "display_data",
          "data": {
            "text/plain": [
              "\u001b[1m Total params: \u001b[0m\u001b[38;5;34m0\u001b[0m (0.00 B)\n"
            ],
            "text/html": [
              "<pre style=\"white-space:pre;overflow-x:auto;line-height:normal;font-family:Menlo,'DejaVu Sans Mono',consolas,'Courier New',monospace\"><span style=\"font-weight: bold\"> Total params: </span><span style=\"color: #00af00; text-decoration-color: #00af00\">0</span> (0.00 B)\n",
              "</pre>\n"
            ]
          },
          "metadata": {}
        },
        {
          "output_type": "display_data",
          "data": {
            "text/plain": [
              "\u001b[1m Trainable params: \u001b[0m\u001b[38;5;34m0\u001b[0m (0.00 B)\n"
            ],
            "text/html": [
              "<pre style=\"white-space:pre;overflow-x:auto;line-height:normal;font-family:Menlo,'DejaVu Sans Mono',consolas,'Courier New',monospace\"><span style=\"font-weight: bold\"> Trainable params: </span><span style=\"color: #00af00; text-decoration-color: #00af00\">0</span> (0.00 B)\n",
              "</pre>\n"
            ]
          },
          "metadata": {}
        },
        {
          "output_type": "display_data",
          "data": {
            "text/plain": [
              "\u001b[1m Non-trainable params: \u001b[0m\u001b[38;5;34m0\u001b[0m (0.00 B)\n"
            ],
            "text/html": [
              "<pre style=\"white-space:pre;overflow-x:auto;line-height:normal;font-family:Menlo,'DejaVu Sans Mono',consolas,'Courier New',monospace\"><span style=\"font-weight: bold\"> Non-trainable params: </span><span style=\"color: #00af00; text-decoration-color: #00af00\">0</span> (0.00 B)\n",
              "</pre>\n"
            ]
          },
          "metadata": {}
        },
        {
          "output_type": "stream",
          "name": "stdout",
          "text": [
            "Epoch 1/10\n",
            "\u001b[1m313/313\u001b[0m \u001b[32m━━━━━━━━━━━━━━━━━━━━\u001b[0m\u001b[37m\u001b[0m \u001b[1m7s\u001b[0m 13ms/step - acc: 0.5001 - loss: 1.4039 - val_acc: 0.4938 - val_loss: 0.6933\n",
            "Epoch 2/10\n",
            "\u001b[1m313/313\u001b[0m \u001b[32m━━━━━━━━━━━━━━━━━━━━\u001b[0m\u001b[37m\u001b[0m \u001b[1m5s\u001b[0m 16ms/step - acc: 0.4968 - loss: 0.6933 - val_acc: 0.4938 - val_loss: 0.6933\n",
            "Epoch 3/10\n",
            "\u001b[1m313/313\u001b[0m \u001b[32m━━━━━━━━━━━━━━━━━━━━\u001b[0m\u001b[37m\u001b[0m \u001b[1m4s\u001b[0m 12ms/step - acc: 0.4958 - loss: 0.6932 - val_acc: 0.4938 - val_loss: 0.6932\n",
            "Epoch 4/10\n",
            "\u001b[1m313/313\u001b[0m \u001b[32m━━━━━━━━━━━━━━━━━━━━\u001b[0m\u001b[37m\u001b[0m \u001b[1m4s\u001b[0m 12ms/step - acc: 0.5012 - loss: 0.6932 - val_acc: 0.4938 - val_loss: 0.6932\n",
            "Epoch 5/10\n",
            "\u001b[1m313/313\u001b[0m \u001b[32m━━━━━━━━━━━━━━━━━━━━\u001b[0m\u001b[37m\u001b[0m \u001b[1m5s\u001b[0m 16ms/step - acc: 0.4952 - loss: 0.6932 - val_acc: 0.4938 - val_loss: 0.6932\n",
            "Epoch 6/10\n",
            "\u001b[1m313/313\u001b[0m \u001b[32m━━━━━━━━━━━━━━━━━━━━\u001b[0m\u001b[37m\u001b[0m \u001b[1m4s\u001b[0m 13ms/step - acc: 0.4989 - loss: 0.6932 - val_acc: 0.4938 - val_loss: 0.6932\n",
            "Epoch 7/10\n",
            "\u001b[1m313/313\u001b[0m \u001b[32m━━━━━━━━━━━━━━━━━━━━\u001b[0m\u001b[37m\u001b[0m \u001b[1m4s\u001b[0m 12ms/step - acc: 0.5018 - loss: 0.6932 - val_acc: 0.4938 - val_loss: 0.6932\n",
            "Epoch 8/10\n",
            "\u001b[1m313/313\u001b[0m \u001b[32m━━━━━━━━━━━━━━━━━━━━\u001b[0m\u001b[37m\u001b[0m \u001b[1m5s\u001b[0m 17ms/step - acc: 0.4973 - loss: 0.6932 - val_acc: 0.4938 - val_loss: 0.6932\n",
            "Epoch 9/10\n",
            "\u001b[1m313/313\u001b[0m \u001b[32m━━━━━━━━━━━━━━━━━━━━\u001b[0m\u001b[37m\u001b[0m \u001b[1m4s\u001b[0m 12ms/step - acc: 0.4971 - loss: 0.6932 - val_acc: 0.4938 - val_loss: 0.6932\n",
            "Epoch 10/10\n",
            "\u001b[1m313/313\u001b[0m \u001b[32m━━━━━━━━━━━━━━━━━━━━\u001b[0m\u001b[37m\u001b[0m \u001b[1m4s\u001b[0m 12ms/step - acc: 0.5000 - loss: 0.6932 - val_acc: 0.4938 - val_loss: 0.6933\n"
          ]
        },
        {
          "output_type": "display_data",
          "data": {
            "text/plain": [
              "<Figure size 1200x600 with 2 Axes>"
            ],
            "image/png": "[encoded data removed]"
          },
          "metadata": {}
        }
      ]
    },
    {
      "cell_type": "markdown",
      "source": [],
      "metadata": {
        "id": "6aa0lRnOvyMg"
      }
    }
  ]
}